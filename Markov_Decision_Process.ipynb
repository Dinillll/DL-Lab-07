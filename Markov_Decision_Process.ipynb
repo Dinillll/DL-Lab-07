{
  "nbformat": 4,
  "nbformat_minor": 0,
  "metadata": {
    "colab": {
      "provenance": [],
      "authorship_tag": "ABX9TyNIe+H5HXwf4DuclemF9pIo",
      "include_colab_link": true
    },
    "kernelspec": {
      "name": "python3",
      "display_name": "Python 3"
    },
    "language_info": {
      "name": "python"
    },
    "widgets": {
      "application/vnd.jupyter.widget-state+json": {
        "7de41b631ea847ff9108b66ea620d6a0": {
          "model_module": "@jupyter-widgets/controls",
          "model_name": "VBoxModel",
          "model_module_version": "1.5.0",
          "state": {
            "_dom_classes": [
              "widget-interact"
            ],
            "_model_module": "@jupyter-widgets/controls",
            "_model_module_version": "1.5.0",
            "_model_name": "VBoxModel",
            "_view_count": null,
            "_view_module": "@jupyter-widgets/controls",
            "_view_module_version": "1.5.0",
            "_view_name": "VBoxView",
            "box_style": "",
            "children": [
              "IPY_MODEL_4926b6383d6a4fd7bc922f74f4290e3b",
              "IPY_MODEL_64e956227c7a47de808b8318a5a97fa2",
              "IPY_MODEL_ea27c8d4e8074961857321698e4faa60",
              "IPY_MODEL_4aab06f0039d449d81cd083e3dc30e3b"
            ],
            "layout": "IPY_MODEL_60fe9f1346da44ecb3780c739ea64092"
          }
        },
        "4926b6383d6a4fd7bc922f74f4290e3b": {
          "model_module": "@jupyter-widgets/controls",
          "model_name": "TextModel",
          "model_module_version": "1.5.0",
          "state": {
            "_dom_classes": [],
            "_model_module": "@jupyter-widgets/controls",
            "_model_module_version": "1.5.0",
            "_model_name": "TextModel",
            "_view_count": null,
            "_view_module": "@jupyter-widgets/controls",
            "_view_module_version": "1.5.0",
            "_view_name": "TextView",
            "continuous_update": true,
            "description": "s0_x",
            "description_tooltip": null,
            "disabled": false,
            "layout": "IPY_MODEL_017357ec05044486b8c814254b2dc9f5",
            "placeholder": "​",
            "style": "IPY_MODEL_e3f5ec1fe4ed46cdb0dc1f6fe99d1579",
            "value": "4"
          }
        },
        "64e956227c7a47de808b8318a5a97fa2": {
          "model_module": "@jupyter-widgets/controls",
          "model_name": "TextModel",
          "model_module_version": "1.5.0",
          "state": {
            "_dom_classes": [],
            "_model_module": "@jupyter-widgets/controls",
            "_model_module_version": "1.5.0",
            "_model_name": "TextModel",
            "_view_count": null,
            "_view_module": "@jupyter-widgets/controls",
            "_view_module_version": "1.5.0",
            "_view_name": "TextView",
            "continuous_update": true,
            "description": "s0_y",
            "description_tooltip": null,
            "disabled": false,
            "layout": "IPY_MODEL_10f500a53f3346779a882bc097ac7760",
            "placeholder": "​",
            "style": "IPY_MODEL_15cd478dad254878b0d24767b5d8d9f7",
            "value": "5"
          }
        },
        "ea27c8d4e8074961857321698e4faa60": {
          "model_module": "@jupyter-widgets/controls",
          "model_name": "ToggleButtonsModel",
          "model_module_version": "1.5.0",
          "state": {
            "_dom_classes": [],
            "_model_module": "@jupyter-widgets/controls",
            "_model_module_version": "1.5.0",
            "_model_name": "ToggleButtonsModel",
            "_options_labels": [
              "left",
              "right",
              "up",
              "down"
            ],
            "_view_count": null,
            "_view_module": "@jupyter-widgets/controls",
            "_view_module_version": "1.5.0",
            "_view_name": "ToggleButtonsView",
            "button_style": "",
            "description": "action",
            "description_tooltip": null,
            "disabled": false,
            "icons": [],
            "index": 0,
            "layout": "IPY_MODEL_ba6e416e104d4babbee2cbf66d467724",
            "style": "IPY_MODEL_2cbfa1e77cb6409fb6b0cd6a0e8048e9",
            "tooltips": []
          }
        },
        "4aab06f0039d449d81cd083e3dc30e3b": {
          "model_module": "@jupyter-widgets/output",
          "model_name": "OutputModel",
          "model_module_version": "1.0.0",
          "state": {
            "_dom_classes": [],
            "_model_module": "@jupyter-widgets/output",
            "_model_module_version": "1.0.0",
            "_model_name": "OutputModel",
            "_view_count": null,
            "_view_module": "@jupyter-widgets/output",
            "_view_module_version": "1.0.0",
            "_view_name": "OutputView",
            "layout": "IPY_MODEL_fcc6a65edfb3444a82f62e8b50fb71da",
            "msg_id": "",
            "outputs": [
              {
                "output_type": "display_data",
                "data": {
                  "text/plain": "<Figure size 600x600 with 2 Axes>",
                  "image/png": "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\n"
                },
                "metadata": {}
              }
            ]
          }
        },
        "60fe9f1346da44ecb3780c739ea64092": {
          "model_module": "@jupyter-widgets/base",
          "model_name": "LayoutModel",
          "model_module_version": "1.2.0",
          "state": {
            "_model_module": "@jupyter-widgets/base",
            "_model_module_version": "1.2.0",
            "_model_name": "LayoutModel",
            "_view_count": null,
            "_view_module": "@jupyter-widgets/base",
            "_view_module_version": "1.2.0",
            "_view_name": "LayoutView",
            "align_content": null,
            "align_items": null,
            "align_self": null,
            "border": null,
            "bottom": null,
            "display": null,
            "flex": null,
            "flex_flow": null,
            "grid_area": null,
            "grid_auto_columns": null,
            "grid_auto_flow": null,
            "grid_auto_rows": null,
            "grid_column": null,
            "grid_gap": null,
            "grid_row": null,
            "grid_template_areas": null,
            "grid_template_columns": null,
            "grid_template_rows": null,
            "height": null,
            "justify_content": null,
            "justify_items": null,
            "left": null,
            "margin": null,
            "max_height": null,
            "max_width": null,
            "min_height": null,
            "min_width": null,
            "object_fit": null,
            "object_position": null,
            "order": null,
            "overflow": null,
            "overflow_x": null,
            "overflow_y": null,
            "padding": null,
            "right": null,
            "top": null,
            "visibility": null,
            "width": null
          }
        },
        "017357ec05044486b8c814254b2dc9f5": {
          "model_module": "@jupyter-widgets/base",
          "model_name": "LayoutModel",
          "model_module_version": "1.2.0",
          "state": {
            "_model_module": "@jupyter-widgets/base",
            "_model_module_version": "1.2.0",
            "_model_name": "LayoutModel",
            "_view_count": null,
            "_view_module": "@jupyter-widgets/base",
            "_view_module_version": "1.2.0",
            "_view_name": "LayoutView",
            "align_content": null,
            "align_items": null,
            "align_self": null,
            "border": null,
            "bottom": null,
            "display": null,
            "flex": null,
            "flex_flow": null,
            "grid_area": null,
            "grid_auto_columns": null,
            "grid_auto_flow": null,
            "grid_auto_rows": null,
            "grid_column": null,
            "grid_gap": null,
            "grid_row": null,
            "grid_template_areas": null,
            "grid_template_columns": null,
            "grid_template_rows": null,
            "height": null,
            "justify_content": null,
            "justify_items": null,
            "left": null,
            "margin": null,
            "max_height": null,
            "max_width": null,
            "min_height": null,
            "min_width": null,
            "object_fit": null,
            "object_position": null,
            "order": null,
            "overflow": null,
            "overflow_x": null,
            "overflow_y": null,
            "padding": null,
            "right": null,
            "top": null,
            "visibility": null,
            "width": null
          }
        },
        "e3f5ec1fe4ed46cdb0dc1f6fe99d1579": {
          "model_module": "@jupyter-widgets/controls",
          "model_name": "DescriptionStyleModel",
          "model_module_version": "1.5.0",
          "state": {
            "_model_module": "@jupyter-widgets/controls",
            "_model_module_version": "1.5.0",
            "_model_name": "DescriptionStyleModel",
            "_view_count": null,
            "_view_module": "@jupyter-widgets/base",
            "_view_module_version": "1.2.0",
            "_view_name": "StyleView",
            "description_width": ""
          }
        },
        "10f500a53f3346779a882bc097ac7760": {
          "model_module": "@jupyter-widgets/base",
          "model_name": "LayoutModel",
          "model_module_version": "1.2.0",
          "state": {
            "_model_module": "@jupyter-widgets/base",
            "_model_module_version": "1.2.0",
            "_model_name": "LayoutModel",
            "_view_count": null,
            "_view_module": "@jupyter-widgets/base",
            "_view_module_version": "1.2.0",
            "_view_name": "LayoutView",
            "align_content": null,
            "align_items": null,
            "align_self": null,
            "border": null,
            "bottom": null,
            "display": null,
            "flex": null,
            "flex_flow": null,
            "grid_area": null,
            "grid_auto_columns": null,
            "grid_auto_flow": null,
            "grid_auto_rows": null,
            "grid_column": null,
            "grid_gap": null,
            "grid_row": null,
            "grid_template_areas": null,
            "grid_template_columns": null,
            "grid_template_rows": null,
            "height": null,
            "justify_content": null,
            "justify_items": null,
            "left": null,
            "margin": null,
            "max_height": null,
            "max_width": null,
            "min_height": null,
            "min_width": null,
            "object_fit": null,
            "object_position": null,
            "order": null,
            "overflow": null,
            "overflow_x": null,
            "overflow_y": null,
            "padding": null,
            "right": null,
            "top": null,
            "visibility": null,
            "width": null
          }
        },
        "15cd478dad254878b0d24767b5d8d9f7": {
          "model_module": "@jupyter-widgets/controls",
          "model_name": "DescriptionStyleModel",
          "model_module_version": "1.5.0",
          "state": {
            "_model_module": "@jupyter-widgets/controls",
            "_model_module_version": "1.5.0",
            "_model_name": "DescriptionStyleModel",
            "_view_count": null,
            "_view_module": "@jupyter-widgets/base",
            "_view_module_version": "1.2.0",
            "_view_name": "StyleView",
            "description_width": ""
          }
        },
        "ba6e416e104d4babbee2cbf66d467724": {
          "model_module": "@jupyter-widgets/base",
          "model_name": "LayoutModel",
          "model_module_version": "1.2.0",
          "state": {
            "_model_module": "@jupyter-widgets/base",
            "_model_module_version": "1.2.0",
            "_model_name": "LayoutModel",
            "_view_count": null,
            "_view_module": "@jupyter-widgets/base",
            "_view_module_version": "1.2.0",
            "_view_name": "LayoutView",
            "align_content": null,
            "align_items": null,
            "align_self": null,
            "border": null,
            "bottom": null,
            "display": null,
            "flex": null,
            "flex_flow": null,
            "grid_area": null,
            "grid_auto_columns": null,
            "grid_auto_flow": null,
            "grid_auto_rows": null,
            "grid_column": null,
            "grid_gap": null,
            "grid_row": null,
            "grid_template_areas": null,
            "grid_template_columns": null,
            "grid_template_rows": null,
            "height": null,
            "justify_content": null,
            "justify_items": null,
            "left": null,
            "margin": null,
            "max_height": null,
            "max_width": null,
            "min_height": null,
            "min_width": null,
            "object_fit": null,
            "object_position": null,
            "order": null,
            "overflow": null,
            "overflow_x": null,
            "overflow_y": null,
            "padding": null,
            "right": null,
            "top": null,
            "visibility": null,
            "width": null
          }
        },
        "2cbfa1e77cb6409fb6b0cd6a0e8048e9": {
          "model_module": "@jupyter-widgets/controls",
          "model_name": "ToggleButtonsStyleModel",
          "model_module_version": "1.5.0",
          "state": {
            "_model_module": "@jupyter-widgets/controls",
            "_model_module_version": "1.5.0",
            "_model_name": "ToggleButtonsStyleModel",
            "_view_count": null,
            "_view_module": "@jupyter-widgets/base",
            "_view_module_version": "1.2.0",
            "_view_name": "StyleView",
            "button_width": "",
            "description_width": "",
            "font_weight": ""
          }
        },
        "fcc6a65edfb3444a82f62e8b50fb71da": {
          "model_module": "@jupyter-widgets/base",
          "model_name": "LayoutModel",
          "model_module_version": "1.2.0",
          "state": {
            "_model_module": "@jupyter-widgets/base",
            "_model_module_version": "1.2.0",
            "_model_name": "LayoutModel",
            "_view_count": null,
            "_view_module": "@jupyter-widgets/base",
            "_view_module_version": "1.2.0",
            "_view_name": "LayoutView",
            "align_content": null,
            "align_items": null,
            "align_self": null,
            "border": null,
            "bottom": null,
            "display": null,
            "flex": null,
            "flex_flow": null,
            "grid_area": null,
            "grid_auto_columns": null,
            "grid_auto_flow": null,
            "grid_auto_rows": null,
            "grid_column": null,
            "grid_gap": null,
            "grid_row": null,
            "grid_template_areas": null,
            "grid_template_columns": null,
            "grid_template_rows": null,
            "height": null,
            "justify_content": null,
            "justify_items": null,
            "left": null,
            "margin": null,
            "max_height": null,
            "max_width": null,
            "min_height": null,
            "min_width": null,
            "object_fit": null,
            "object_position": null,
            "order": null,
            "overflow": null,
            "overflow_x": null,
            "overflow_y": null,
            "padding": null,
            "right": null,
            "top": null,
            "visibility": null,
            "width": null
          }
        },
        "e4f55ca4968444908e3865f1d6b25088": {
          "model_module": "@jupyter-widgets/controls",
          "model_name": "VBoxModel",
          "model_module_version": "1.5.0",
          "state": {
            "_dom_classes": [
              "widget-interact"
            ],
            "_model_module": "@jupyter-widgets/controls",
            "_model_module_version": "1.5.0",
            "_model_name": "VBoxModel",
            "_view_count": null,
            "_view_module": "@jupyter-widgets/controls",
            "_view_module_version": "1.5.0",
            "_view_name": "VBoxView",
            "box_style": "",
            "children": [
              "IPY_MODEL_21a720c4238a4732ad116ba679f14afd",
              "IPY_MODEL_348162547af54a1eb6f05596c0465bc0",
              "IPY_MODEL_6cec21ed5c4141dd9503de60a3e3375c"
            ],
            "layout": "IPY_MODEL_21baf131a41c43c7b87f1603874ce11f"
          }
        },
        "21a720c4238a4732ad116ba679f14afd": {
          "model_module": "@jupyter-widgets/controls",
          "model_name": "ToggleButtonsModel",
          "model_module_version": "1.5.0",
          "state": {
            "_dom_classes": [],
            "_model_module": "@jupyter-widgets/controls",
            "_model_module_version": "1.5.0",
            "_model_name": "ToggleButtonsModel",
            "_options_labels": [
              "left",
              "right",
              "up",
              "down"
            ],
            "_view_count": null,
            "_view_module": "@jupyter-widgets/controls",
            "_view_module_version": "1.5.0",
            "_view_name": "ToggleButtonsView",
            "button_style": "",
            "description": "action",
            "description_tooltip": null,
            "disabled": false,
            "icons": [],
            "index": 0,
            "layout": "IPY_MODEL_0cc52c645c0f4c558f17f7fdde3f9a00",
            "style": "IPY_MODEL_fb09e0ef755647daaabf32e43b2b58e0",
            "tooltips": []
          }
        },
        "348162547af54a1eb6f05596c0465bc0": {
          "model_module": "@jupyter-widgets/controls",
          "model_name": "IntSliderModel",
          "model_module_version": "1.5.0",
          "state": {
            "_dom_classes": [],
            "_model_module": "@jupyter-widgets/controls",
            "_model_module_version": "1.5.0",
            "_model_name": "IntSliderModel",
            "_view_count": null,
            "_view_module": "@jupyter-widgets/controls",
            "_view_module_version": "1.5.0",
            "_view_name": "IntSliderView",
            "continuous_update": true,
            "description": "numIter",
            "description_tooltip": null,
            "disabled": false,
            "layout": "IPY_MODEL_37d20311e139465aaaa56edc2c1309f8",
            "max": 20,
            "min": 0,
            "orientation": "horizontal",
            "readout": true,
            "readout_format": "d",
            "step": 1,
            "style": "IPY_MODEL_beb6844b7deb48d792931077fd9fc7c1",
            "value": 0
          }
        },
        "6cec21ed5c4141dd9503de60a3e3375c": {
          "model_module": "@jupyter-widgets/output",
          "model_name": "OutputModel",
          "model_module_version": "1.0.0",
          "state": {
            "_dom_classes": [],
            "_model_module": "@jupyter-widgets/output",
            "_model_module_version": "1.0.0",
            "_model_name": "OutputModel",
            "_view_count": null,
            "_view_module": "@jupyter-widgets/output",
            "_view_module_version": "1.0.0",
            "_view_name": "OutputView",
            "layout": "IPY_MODEL_f3e9a372ed0147bebb1f0f3d58190f39",
            "msg_id": "",
            "outputs": [
              {
                "output_type": "error",
                "ename": "AttributeError",
                "evalue": "'NoneType' object has no attribute 'reshape'",
                "traceback": [
                  "\u001b[0;31m---------------------------------------------------------------------------\u001b[0m",
                  "\u001b[0;31mAttributeError\u001b[0m                            Traceback (most recent call last)",
                  "\u001b[0;32m/usr/local/lib/python3.12/dist-packages/ipywidgets/widgets/interaction.py\u001b[0m in \u001b[0;36mupdate\u001b[0;34m(self, *args)\u001b[0m\n\u001b[1;32m    255\u001b[0m                     \u001b[0mvalue\u001b[0m \u001b[0;34m=\u001b[0m \u001b[0mwidget\u001b[0m\u001b[0;34m.\u001b[0m\u001b[0mget_interact_value\u001b[0m\u001b[0;34m(\u001b[0m\u001b[0;34m)\u001b[0m\u001b[0;34m\u001b[0m\u001b[0;34m\u001b[0m\u001b[0m\n\u001b[1;32m    256\u001b[0m                     \u001b[0mself\u001b[0m\u001b[0;34m.\u001b[0m\u001b[0mkwargs\u001b[0m\u001b[0;34m[\u001b[0m\u001b[0mwidget\u001b[0m\u001b[0;34m.\u001b[0m\u001b[0m_kwarg\u001b[0m\u001b[0;34m]\u001b[0m \u001b[0;34m=\u001b[0m \u001b[0mvalue\u001b[0m\u001b[0;34m\u001b[0m\u001b[0;34m\u001b[0m\u001b[0m\n\u001b[0;32m--> 257\u001b[0;31m                 \u001b[0mself\u001b[0m\u001b[0;34m.\u001b[0m\u001b[0mresult\u001b[0m \u001b[0;34m=\u001b[0m \u001b[0mself\u001b[0m\u001b[0;34m.\u001b[0m\u001b[0mf\u001b[0m\u001b[0;34m(\u001b[0m\u001b[0;34m**\u001b[0m\u001b[0mself\u001b[0m\u001b[0;34m.\u001b[0m\u001b[0mkwargs\u001b[0m\u001b[0;34m)\u001b[0m\u001b[0;34m\u001b[0m\u001b[0;34m\u001b[0m\u001b[0m\n\u001b[0m\u001b[1;32m    258\u001b[0m                 \u001b[0mshow_inline_matplotlib_plots\u001b[0m\u001b[0;34m(\u001b[0m\u001b[0;34m)\u001b[0m\u001b[0;34m\u001b[0m\u001b[0;34m\u001b[0m\u001b[0m\n\u001b[1;32m    259\u001b[0m                 \u001b[0;32mif\u001b[0m \u001b[0mself\u001b[0m\u001b[0;34m.\u001b[0m\u001b[0mauto_display\u001b[0m \u001b[0;32mand\u001b[0m \u001b[0mself\u001b[0m\u001b[0;34m.\u001b[0m\u001b[0mresult\u001b[0m \u001b[0;32mis\u001b[0m \u001b[0;32mnot\u001b[0m \u001b[0;32mNone\u001b[0m\u001b[0;34m:\u001b[0m\u001b[0;34m\u001b[0m\u001b[0;34m\u001b[0m\u001b[0m\n",
                  "\u001b[0;32m/tmp/ipython-input-2683916422.py\u001b[0m in \u001b[0;36mf\u001b[0;34m(action, numIter)\u001b[0m\n\u001b[1;32m      2\u001b[0m     \u001b[0mU\u001b[0m \u001b[0;34m=\u001b[0m \u001b[0miterativePolicyEvaluation\u001b[0m\u001b[0;34m(\u001b[0m\u001b[0mmdp\u001b[0m\u001b[0;34m,\u001b[0m \u001b[0mpolicy\u001b[0m\u001b[0;34m=\u001b[0m\u001b[0mmdp\u001b[0m\u001b[0;34m.\u001b[0m\u001b[0mA\u001b[0m\u001b[0;34m.\u001b[0m\u001b[0mindex\u001b[0m\u001b[0;34m(\u001b[0m\u001b[0maction\u001b[0m\u001b[0;34m)\u001b[0m\u001b[0;34m,\u001b[0m \u001b[0mnumIterations\u001b[0m\u001b[0;34m=\u001b[0m\u001b[0mnumIter\u001b[0m\u001b[0;34m)\u001b[0m\u001b[0;34m\u001b[0m\u001b[0;34m\u001b[0m\u001b[0m\n\u001b[1;32m      3\u001b[0m     \u001b[0mpl\u001b[0m\u001b[0;34m.\u001b[0m\u001b[0mfigure\u001b[0m\u001b[0;34m(\u001b[0m\u001b[0mfigsize\u001b[0m\u001b[0;34m=\u001b[0m\u001b[0;34m(\u001b[0m\u001b[0;36m3\u001b[0m\u001b[0;34m,\u001b[0m\u001b[0;36m3\u001b[0m\u001b[0;34m)\u001b[0m\u001b[0;34m)\u001b[0m\u001b[0;34m\u001b[0m\u001b[0;34m\u001b[0m\u001b[0m\n\u001b[0;32m----> 4\u001b[0;31m     \u001b[0mmdp\u001b[0m\u001b[0;34m.\u001b[0m\u001b[0mgridPlot\u001b[0m\u001b[0;34m(\u001b[0m\u001b[0max\u001b[0m\u001b[0;34m=\u001b[0m\u001b[0mpl\u001b[0m\u001b[0;34m.\u001b[0m\u001b[0mgca\u001b[0m\u001b[0;34m(\u001b[0m\u001b[0;34m)\u001b[0m\u001b[0;34m,\u001b[0m \u001b[0mim\u001b[0m\u001b[0;34m=\u001b[0m\u001b[0mU\u001b[0m\u001b[0;34m.\u001b[0m\u001b[0mreshape\u001b[0m\u001b[0;34m(\u001b[0m\u001b[0;36m10\u001b[0m\u001b[0;34m,\u001b[0m\u001b[0;36m10\u001b[0m\u001b[0;34m)\u001b[0m\u001b[0;34m,\u001b[0m \u001b[0mtitle\u001b[0m\u001b[0;34m=\u001b[0m\u001b[0;34m'Utility'\u001b[0m\u001b[0;34m,\u001b[0m \u001b[0mcmap\u001b[0m\u001b[0;34m=\u001b[0m\u001b[0;34m'jet'\u001b[0m\u001b[0;34m)\u001b[0m\u001b[0;34m\u001b[0m\u001b[0;34m\u001b[0m\u001b[0m\n\u001b[0m\u001b[1;32m      5\u001b[0m     \u001b[0mpl\u001b[0m\u001b[0;34m.\u001b[0m\u001b[0mshow\u001b[0m\u001b[0;34m(\u001b[0m\u001b[0;34m)\u001b[0m\u001b[0;34m\u001b[0m\u001b[0;34m\u001b[0m\u001b[0m\n\u001b[1;32m      6\u001b[0m \u001b[0;34m\u001b[0m\u001b[0m\n",
                  "\u001b[0;31mAttributeError\u001b[0m: 'NoneType' object has no attribute 'reshape'"
                ]
              }
            ]
          }
        },
        "21baf131a41c43c7b87f1603874ce11f": {
          "model_module": "@jupyter-widgets/base",
          "model_name": "LayoutModel",
          "model_module_version": "1.2.0",
          "state": {
            "_model_module": "@jupyter-widgets/base",
            "_model_module_version": "1.2.0",
            "_model_name": "LayoutModel",
            "_view_count": null,
            "_view_module": "@jupyter-widgets/base",
            "_view_module_version": "1.2.0",
            "_view_name": "LayoutView",
            "align_content": null,
            "align_items": null,
            "align_self": null,
            "border": null,
            "bottom": null,
            "display": null,
            "flex": null,
            "flex_flow": null,
            "grid_area": null,
            "grid_auto_columns": null,
            "grid_auto_flow": null,
            "grid_auto_rows": null,
            "grid_column": null,
            "grid_gap": null,
            "grid_row": null,
            "grid_template_areas": null,
            "grid_template_columns": null,
            "grid_template_rows": null,
            "height": null,
            "justify_content": null,
            "justify_items": null,
            "left": null,
            "margin": null,
            "max_height": null,
            "max_width": null,
            "min_height": null,
            "min_width": null,
            "object_fit": null,
            "object_position": null,
            "order": null,
            "overflow": null,
            "overflow_x": null,
            "overflow_y": null,
            "padding": null,
            "right": null,
            "top": null,
            "visibility": null,
            "width": null
          }
        },
        "0cc52c645c0f4c558f17f7fdde3f9a00": {
          "model_module": "@jupyter-widgets/base",
          "model_name": "LayoutModel",
          "model_module_version": "1.2.0",
          "state": {
            "_model_module": "@jupyter-widgets/base",
            "_model_module_version": "1.2.0",
            "_model_name": "LayoutModel",
            "_view_count": null,
            "_view_module": "@jupyter-widgets/base",
            "_view_module_version": "1.2.0",
            "_view_name": "LayoutView",
            "align_content": null,
            "align_items": null,
            "align_self": null,
            "border": null,
            "bottom": null,
            "display": null,
            "flex": null,
            "flex_flow": null,
            "grid_area": null,
            "grid_auto_columns": null,
            "grid_auto_flow": null,
            "grid_auto_rows": null,
            "grid_column": null,
            "grid_gap": null,
            "grid_row": null,
            "grid_template_areas": null,
            "grid_template_columns": null,
            "grid_template_rows": null,
            "height": null,
            "justify_content": null,
            "justify_items": null,
            "left": null,
            "margin": null,
            "max_height": null,
            "max_width": null,
            "min_height": null,
            "min_width": null,
            "object_fit": null,
            "object_position": null,
            "order": null,
            "overflow": null,
            "overflow_x": null,
            "overflow_y": null,
            "padding": null,
            "right": null,
            "top": null,
            "visibility": null,
            "width": null
          }
        },
        "fb09e0ef755647daaabf32e43b2b58e0": {
          "model_module": "@jupyter-widgets/controls",
          "model_name": "ToggleButtonsStyleModel",
          "model_module_version": "1.5.0",
          "state": {
            "_model_module": "@jupyter-widgets/controls",
            "_model_module_version": "1.5.0",
            "_model_name": "ToggleButtonsStyleModel",
            "_view_count": null,
            "_view_module": "@jupyter-widgets/base",
            "_view_module_version": "1.2.0",
            "_view_name": "StyleView",
            "button_width": "",
            "description_width": "",
            "font_weight": ""
          }
        },
        "37d20311e139465aaaa56edc2c1309f8": {
          "model_module": "@jupyter-widgets/base",
          "model_name": "LayoutModel",
          "model_module_version": "1.2.0",
          "state": {
            "_model_module": "@jupyter-widgets/base",
            "_model_module_version": "1.2.0",
            "_model_name": "LayoutModel",
            "_view_count": null,
            "_view_module": "@jupyter-widgets/base",
            "_view_module_version": "1.2.0",
            "_view_name": "LayoutView",
            "align_content": null,
            "align_items": null,
            "align_self": null,
            "border": null,
            "bottom": null,
            "display": null,
            "flex": null,
            "flex_flow": null,
            "grid_area": null,
            "grid_auto_columns": null,
            "grid_auto_flow": null,
            "grid_auto_rows": null,
            "grid_column": null,
            "grid_gap": null,
            "grid_row": null,
            "grid_template_areas": null,
            "grid_template_columns": null,
            "grid_template_rows": null,
            "height": null,
            "justify_content": null,
            "justify_items": null,
            "left": null,
            "margin": null,
            "max_height": null,
            "max_width": null,
            "min_height": null,
            "min_width": null,
            "object_fit": null,
            "object_position": null,
            "order": null,
            "overflow": null,
            "overflow_x": null,
            "overflow_y": null,
            "padding": null,
            "right": null,
            "top": null,
            "visibility": null,
            "width": null
          }
        },
        "beb6844b7deb48d792931077fd9fc7c1": {
          "model_module": "@jupyter-widgets/controls",
          "model_name": "SliderStyleModel",
          "model_module_version": "1.5.0",
          "state": {
            "_model_module": "@jupyter-widgets/controls",
            "_model_module_version": "1.5.0",
            "_model_name": "SliderStyleModel",
            "_view_count": null,
            "_view_module": "@jupyter-widgets/base",
            "_view_module_version": "1.2.0",
            "_view_name": "StyleView",
            "description_width": "",
            "handle_color": null
          }
        },
        "f3e9a372ed0147bebb1f0f3d58190f39": {
          "model_module": "@jupyter-widgets/base",
          "model_name": "LayoutModel",
          "model_module_version": "1.2.0",
          "state": {
            "_model_module": "@jupyter-widgets/base",
            "_model_module_version": "1.2.0",
            "_model_name": "LayoutModel",
            "_view_count": null,
            "_view_module": "@jupyter-widgets/base",
            "_view_module_version": "1.2.0",
            "_view_name": "LayoutView",
            "align_content": null,
            "align_items": null,
            "align_self": null,
            "border": null,
            "bottom": null,
            "display": null,
            "flex": null,
            "flex_flow": null,
            "grid_area": null,
            "grid_auto_columns": null,
            "grid_auto_flow": null,
            "grid_auto_rows": null,
            "grid_column": null,
            "grid_gap": null,
            "grid_row": null,
            "grid_template_areas": null,
            "grid_template_columns": null,
            "grid_template_rows": null,
            "height": null,
            "justify_content": null,
            "justify_items": null,
            "left": null,
            "margin": null,
            "max_height": null,
            "max_width": null,
            "min_height": null,
            "min_width": null,
            "object_fit": null,
            "object_position": null,
            "order": null,
            "overflow": null,
            "overflow_x": null,
            "overflow_y": null,
            "padding": null,
            "right": null,
            "top": null,
            "visibility": null,
            "width": null
          }
        },
        "531d45188809497db2b80c2b26e4a885": {
          "model_module": "@jupyter-widgets/controls",
          "model_name": "VBoxModel",
          "model_module_version": "1.5.0",
          "state": {
            "_dom_classes": [
              "widget-interact"
            ],
            "_model_module": "@jupyter-widgets/controls",
            "_model_module_version": "1.5.0",
            "_model_name": "VBoxModel",
            "_view_count": null,
            "_view_module": "@jupyter-widgets/controls",
            "_view_module_version": "1.5.0",
            "_view_name": "VBoxView",
            "box_style": "",
            "children": [
              "IPY_MODEL_a49173cfbd254a39bdcf23cb6c79f53a",
              "IPY_MODEL_24f715a4637845ceaaec20d096ee4e37"
            ],
            "layout": "IPY_MODEL_0519f9a766414a81985ae65800407115"
          }
        },
        "a49173cfbd254a39bdcf23cb6c79f53a": {
          "model_module": "@jupyter-widgets/controls",
          "model_name": "IntSliderModel",
          "model_module_version": "1.5.0",
          "state": {
            "_dom_classes": [],
            "_model_module": "@jupyter-widgets/controls",
            "_model_module_version": "1.5.0",
            "_model_name": "IntSliderModel",
            "_view_count": null,
            "_view_module": "@jupyter-widgets/controls",
            "_view_module_version": "1.5.0",
            "_view_name": "IntSliderView",
            "continuous_update": true,
            "description": "numIter",
            "description_tooltip": null,
            "disabled": false,
            "layout": "IPY_MODEL_7db877b79dde48908e643da5c6112148",
            "max": 20,
            "min": 0,
            "orientation": "horizontal",
            "readout": true,
            "readout_format": "d",
            "step": 1,
            "style": "IPY_MODEL_08d6c977e1484c809386a3cd6e28642e",
            "value": 0
          }
        },
        "24f715a4637845ceaaec20d096ee4e37": {
          "model_module": "@jupyter-widgets/output",
          "model_name": "OutputModel",
          "model_module_version": "1.0.0",
          "state": {
            "_dom_classes": [],
            "_model_module": "@jupyter-widgets/output",
            "_model_module_version": "1.0.0",
            "_model_name": "OutputModel",
            "_view_count": null,
            "_view_module": "@jupyter-widgets/output",
            "_view_module_version": "1.0.0",
            "_view_name": "OutputView",
            "layout": "IPY_MODEL_56cb12badbd44444b84690862d217106",
            "msg_id": "",
            "outputs": [
              {
                "output_type": "stream",
                "name": "stdout",
                "text": [
                  "time= 0.05\n"
                ]
              },
              {
                "output_type": "display_data",
                "data": {
                  "text/plain": "<Figure size 300x300 with 2 Axes>",
                  "image/png": "iVBORw0KGgoAAAANSUhEUgAAATQAAAEJCAYAAAAaZdvsAAAAOnRFWHRTb2Z0d2FyZQBNYXRwbG90bGliIHZlcnNpb24zLjEwLjAsIGh0dHBzOi8vbWF0cGxvdGxpYi5vcmcvlHJYcgAAAAlwSFlzAAAPYQAAD2EBqD+naQAARXFJREFUeJztnXtcFFX/xz+wsFyUS6iw4A1QQ7yAArKtWpqQYOaj6eOFMAlNysAU/KlYKagZWql4IclUtIRQM31SE0MUrMDbKhWKmGZKyoKmgIDAsju/P4jNYXfZmd1Zd9Tzfr3O63n2zJnPfGZlv50558z3mFEURYFAIBCeAMxNbYBAIBC4ggQ0AoHwxEACGoFAeGIgAY1AIDwxkIBGIBCeGEhAIxAITwwkoBEIhCcGEtAIBMITAwloBALhiYEENAKB8MRAAhqB8BSQkpICd3d3WFtbQywW4/Tp01rbXrhwARMmTIC7uzvMzMyQnJysl2Z9fT2io6PRoUMHtG/fHhMmTEB5eTmXt6UGCWgEwhPOrl27EBcXh4SEBJw7dw6+vr4ICQlBRUWFxvZ1dXXw9PTEypUrIRKJ9NaMjY3FgQMHsGfPHuTl5eHWrVsYP368Ue5RBUUgEJ5oAgMDqejoaNVnhUJBubm5UUlJSTrP7d69O7V27VrWmpWVlZSlpSW1Z88eVZvi4mIKAFVQUGDA3bQN6aERCE8wjY2NkEqlCA4OVtWZm5sjODgYBQUFRtOUSqWQy+W0Nr1790a3bt30vi4TLIymTCAQGFNfX4/GxkbG7SmKgpmZGa3OysoKVlZWtLo7d+5AoVDAxcWFVu/i4oJLly7p5ZWJpkwmg1AohKOjo1obmUym13WZQHpoTyBvvPEG3N3daXVmZmZITExUfd6+fTvMzMzw559/PlJvBHXq6+vRycYGDg4OjEuXLl3U6pKSkkx9KyaH9NB4RGJiIpYuXYrbt2+jY8eOasf79euHjh07Ijc3F7du3cLmzZsxbtw4DBgwgJPrf/bZZ7C1tcUbb7zBiR6BGY2NjagBsAiANYP29QCSampQWloKe3t7VX3r3hkAdOzYEQKBQG12sby8XOuAvy6YaIpEIjQ2NqKyspLWSzPkukwgPbTHlFu3bmHp0qUoLCxUO/bFF1+gpKSkzfNff/11PHjwAN27d1fVffbZZ9i+fTvHTglMac+iAIC9vT2taApoQqEQ/v7+yMnJUdUplUrk5ORAIpHo5ZOJpr+/PywtLWltSkpKcOPGDb2vywTSQ3sCsbS01NlGIBBAIBA8AjcEplgA0P0vBzSx1I2Li0NERAQCAgIQGBiI5ORk1NbWIjIyEgAwbdo0dO7cWfXI2tjYiIsXL6r+/82bN1FYWIj27dujZ8+ejDQdHBwwY8YMxMXFwcnJCfb29pg9ezYkEgmee+45lnfAAqPNnxJYk5CQQAGgbt++rfF43759qWHDhlHHjx+nAKiVtLQ0iqIoKiIigurevTvtXABUQkKC6nNaWhoFgLp27RpFUc3T8631hg0bRl29epUCQK1Zs0bNz88//0wBoDIyMri4/aeWqqoqCgC1GqA+Y1BW//PvU1VVxfgaGzZsoLp160YJhUIqMDCQOnnypOrYsGHDqIiICNXna9euafz7GjZsGGNNiqKoBw8eUO+88w71zDPPULa2ttSrr75KlZWV6fUdMYX00B5DvL29sWzZMixZsgRRUVF4/vnnAQCDBw/WWzM5ORmzZ89G+/bt8f777wNonpHy9PTEkCFDkJ6ejtjYWNo56enpsLOzw9ixY/W/GYIKSxinhwYAMTExiImJ0XgsNzeX9tnd3R0Ug72T2tIEAGtra6SkpCAlJYWVV0MgY2iPIS4uLhg1ahQAQCKRYOrUqZg6dSo8PT311hw3bhwcHBzg4uKi0nvppZcAND+SSKVS2jS/XC7H7t27MX78eNja2hp2QwQAzY+cTAtBMySgEXQyadIkWFtbIz09XVV35MgR3LlzB1OnTjWhsyeLljE0XYUENO2QgPaY0Xox5aPA0dERY8aMQUZGhqouPT0dnTt3xogRIx65nycV0kMzHBLQeIS1dfMqpAcPHmg8XldXp2rzqJk2bRr++OMP5Ofn4/79+/juu+8QFhYGc3PyJ8QVtiwKQTPkr5FHtKwJ07SGrK6uDqWlpao2xuiptaUZGhqKTp06IT09Hfv27UNdXR1ef/11zj08zZAemuGQgMYjgoKCIBQKsWnTJiiVStqxzZs3o6mpSTUZ0K5dOwBAZWUlZ9dv166dVj0LCwuEhYVh9+7d2L59O/r37w8fHx/Ork0gY2hcQL4bHuHs7IwlS5bggw8+wAsvvID//Oc/sLW1RX5+Pr7++muMHDkSY8aMAQD06NEDjo6OSE1NhZ2dHdq1awexWAwPDw+9r+/v749Nmzbhww8/RM+ePeHs7EwbI5s2bRrWr1+P48ePY9WqVQbfL4EO094X+dFqh3w3POP999+Hu7s7Nm7ciGXLlqGpqQkeHh5YunQpFi5cqBqzsrS0xI4dO7Bo0SK8/fbbaGpqQlpamkEBbcmSJbh+/To+/vhj3L9/H8OGDaMFNH9/f/Tt2xfFxcUIDw83+F4JdJiuQ2PS5mnFjGKygo5A+IeBAwfCycmJ9o4ewTCqq6vh4OCAHADtGLSvBRAEoKqqivZyOoH00AgsOHv2LAoLC8kL7EaC6buc5EerHfLdEHRSVFQEqVSK1atXw9XVFZMnTza1pScSMoZmOGSWk6CTb775BpGRkZDL5fj6669NthbuSYfJDCfTcbanFTKGRiCYmJYxtF8B2DFofx+AD8gYmiZI75VA4AlkltNwSEAjEHgCGUMznEf+3SiVSty6dQt2dnYmedGaQHgUUBSF+/fvw83NjfH7rhYCwJLBT8KCAqAwzN+TyiMLaC2J3hobG3H16tVHdVkCwaSUlpaiS5cujNpaWAAWJKAZxCOfFKiqqoKjoyM+K01BnX2t3jod0BHjMQHfYi/+xh2DPHGlxUdPXGoRT8yxrW6Hd7pGo7KyEg4ODm22bZkUkNkC9gwCWjUFiOrIpIAmHvkjZ8tjZp19LSrt7+mtYwMb2MMedahFJfTX4VKLj5641CKe2MNmWIVVD40lKSkp+OSTTyCTyeDr64sNGzYgMDBQa/s9e/Zg8eLF+PPPP9GrVy+sWrUKL7/8suq4tvv6+OOPMX/+fADNqbyvX79OO56UlIT4+Hj2N8AQsg6NQOAJlgLA0oJBYblZ165duxAXF4eEhAScO3cOvr6+CAkJQUVFhcb2+fn5CAsLw4wZM3D+/HmMGzcO48aNQ1FRkapNWVkZrWzbtg1mZmaYMGECTWvZsmW0drNnz2b9vbCBlwGtsaYRP374M8qkZbzR4qMnLrWIJ9No0RCwKCxYs2YNZs6cicjISPTp0wepqamwtbXFtm3bNLZft24dQkNDMX/+fHh7e2P58uXw8/PDxo0bVW1EIhGt/O9//8OLL76otq+FnZ0drV1L2itjwfqR8/79+1i8eDH27duHiooKDBw4EOvWrcOgQYMMNiN/IMfZlHMoWFWAujsP0HUos8FUY2rx0ROXWsSTabQ0Yg1mXYx/UuVVV1fTqq2srNQ2G25sbIRUKsWiRYtUdebm5ggODkZBQYFG+YKCAsTFxdHqQkJCsH//fo3ty8vLcejQIezYsUPt2MqVK7F8+XJ069YNr732GmJjY2FhYbyRLtbKb775JoqKivDVV1/Bzc0NO3fuRHBwMC5evIjOnTvrZULRqMD5Lwrx04p81JTVwLajDYI+GYEuz7HX40qLj5641CKeTKPVJhZgFdC6du1Kq05ISEBiYiKt7s6dO1AoFHBxcaHVu7i40HbxehiZTKaxvUwm09h+x44dsLOzw/jx42n17777Lvz8/ODk5IT8/HwsWrQIZWVlWLNmja471BtWAe3BgwfYu3cv/ve//+GFF14AACQmJuLAgQOqxIBsuXW2DHv/uw9V16tg7WiNYctfgHjuIAjbC02mxUdPXGoRT6bR0ok5WD1OlpaW0mY5W/fOHhXbtm1DeHi42ju+D/fyfHx8IBQK8dZbbyEpKcloXlkFtKamJigUCjXjNjY2+OmnnzSe09DQgIaGBtXn1t3k20W3UXW9CqKBLngtewpsO+i/BQRXWnz0xKUW8WQaLZ1YgFlA+2eC0d7eXueyjY4dO0IgEKC8vJxWX15eDpFIpPEckUjEuP2PP/6IkpIS7Nq1S6dtsViMpqYm/Pnnn/Dy8tLZXh9YTQrY2dlBIpFg+fLluHXrFhQKBXbu3ImCggKUlWkeIE1KSoKDg4OqtO4m23e1h4WNBWTny/Hl8ztxcU8xo12bNcGVFh89calFPJlGSydG2CVFKBTC39+flpBTqVQiJycHEolE4zkSiUQtgWd2drbG9lu3boW/vz98fX11eiksLIS5uTmcnZ2Z3wBLWM9yfvXVV6AoCp07d4aVlRXWr1/f5nZmixYtQlVVlaqUlpbSjnsEuSP66iz4v+OHe1cr8e2k/dgycBsuf/c765vhSouPnrjUIp5Mo6UTI81yxsXF4YsvvsCOHTtQXFyMWbNmoba2FpGRkQCa94p4eNJgzpw5yMrKwurVq3Hp0iUkJibi7NmziImJoelWV1djz549ePPNN9WuWVBQgOTkZPzyyy/4448/kJ6ejtjYWEydOhXPPPMMuxtgAeuA1qNHD+Tl5aGmpgalpaU4ffo05HK52nRtC1ZWVqqusbYusp1re4xKCcGsy2/Bd7oPbl+4g91jv8H1EzdY3xBXWnz0xKUW8WQarTYx0j52kydPxqeffoolS5ZgwIABKCwsRFZWlmrg/8aNG7QnrMGDByMjIwObN2+Gr68vvvnmG+zfvx/9+vWj6WZmZoKiKISFhald08rKCpmZmRg2bBj69u2LFStWIDY2Fps3b2ZnniV6z5+2a9cO7dq1w71793DkyBF8/PHHBptx7O6AMVtHY0i8BHkJPxr08jpXWnz0xKUW8WQaLY0IYLR3d2JiYtR6WC3k5uaq1U2cOBETJ05sUzMqKgpRUVEaj/n5+eHkyZOsfRoK66/vyJEjoCgKXl5euHLlCubPn4/evXuruq9c4NTLCa9mjOWVFh89calFPJlGiwbTx0mSklUrrANaVVUVFi1ahL/++gtOTk6YMGECVqxYAUtLknaOQDAIazD7RTYZ28jjC+uANmnSJEyaNMkYXgiEpxs9xscIdMjXRyDwBaYLa5XGNvL4QgIagcAXmPbQyBiaVkwW0DqgI2xgo/f5HdGJ9r+GwJUWHz1xqUU8MceW0R7orSABzWAeWcbalhTcCoUCly9fJtk2CU80LVlomfydq9qOA+wZzK1VywGH/SRjrSYeWQ8tOjoa0dHRqn+8b7EXddA/BXdHdMIkTMZu7MId3DbIG1dafPTEpRbxxBzSQzMNJnvk/Bt3OElzfAe3UYZbHDjiTouPnrjUIp504wg9Xu9hurCWTApohUwKEAh8genCWpbvcj5NsHqXU6FQYPHixfDw8ICNjQ169OiB5cuXc559gI/pkvnoiUst4sk0WjSM9C7n0wSrr2bVqlXYtGkTduzYgb59++Ls2bOIjIyEg4MD3n33XYPN8DFdMh89calFPJlGSyPWAJjkjeTlTiD8gFVAy8/Px9ixYzF69GgAzdtUff311zh9+rRBJviYLpmPnrjUIp5Mo9UmTBfWkoCmFVYBbfDgwdi8eTMuX76MZ599Fr/88gt++ukng3KE8zFdMh89calFPJlGSydMHyfJrulaYRXQ4uPjUV1djd69e0MgEEChUGDFihUIDw/Xeg5Jwc0/LeLJNFo6IQHNYFh1Xnfv3o309HRkZGTg3Llz2LFjBz799FON21e1QFJw80+LeDKNlk6MlLH2aYJVQJs/fz7i4+MxZcoU9O/fH6+//jpiY2ORlJSk9RySgpt/WsSTabR0QmY5DYZVQKurq1PbO0AgEECp1L7Sj6Tg5qcW8WQarTZpWVirq5AemlZYBbQxY8ZgxYoVOHToEP7880/s27cPa9aswauvvsqJmZYUx29fnIm+YX04SZdsqBYfPXGpRTyZRksjRuyhpaSkwN3dHdbW1hCLxTpXJuzZswe9e/eGtbU1+vfvj++//552/I033oCZmRmthIaG0trcvXsX4eHhsLe3h6OjI2bMmIGamhr25lnA6qvZsGEDFi9ejHfeeQcVFRVwc3PDW2+9hSVLlnBqio/pkvnoiUst4sk0WjSM9KbArl27EBcXh9TUVIjFYiQnJyMkJAQlJSUat5TLz89HWFgYkpKS8MorryAjIwPjxo3DuXPnaBulhIaGIi0tTfW59ebB4eHhKCsrQ3Z2NuRyOSIjIxEVFYWMjAx2N8AC1vtyJicn4/r163jw4AGuXr2KDz/8EEKhEaawCYSnDWsWhQVr1qzBzJkzERkZiT59+iA1NRW2trbYtm2bxvbr1q1DaGgo5s+fD29vbyxfvhx+fn7YuHEjrZ2VlRVEIpGqPLw9XXFxMbKysrBlyxaIxWIMHToUGzZsQGZmJm7d4uadW02QJXoEAl9oWVirq/zzq62urqaVh5dHtdDY2AipVIrg4OB/L2NujuDgYBQUFGi0UVBQQGsPACEhIWrtc3Nz4ezsDC8vL8yaNQt///03TcPR0REBAQGquuDgYJibm+PUqVMMvxD2kIBGIPAFlmNoXbt2pS2J0rTa4M6dO1AoFKo9OFtwcXGBTCbTaEMmk+lsHxoaii+//BI5OTlYtWoV8vLyMGrUKCgUCpVG68dZCwsLODk5ab0uF5CMtRxq8dETl1rEE3OMmg/tnzalpaW0VQOtx7CMyZQpU1T/v3///vDx8UGPHj2Qm5uLoKCgR+ajNY8soD2csRYAxmMC7GF4ts1JmGywBtdafPTEpRbxpJtqVCMS09mdxHJSQNsyqIfp2LEjBAIBysvLafXl5eUQiUQazxGJRKzaA4Cnpyc6duyIK1euICgoCCKRCBUVFbQ2TU1NuHv3bps6hkIy1nKoxUdPXGoRT8x5FD00JgiFQvj7+yMnJwfjxo0DACiVSuTk5GjdSV0ikSAnJwdz585V1WVnZ0MikWi9zl9//YW///4brq6uKo3KykpIpVL4+/sDAI4dOwalUgmxWMz8BlhCMtYaQYuPnrjUIp50Y9SMtSyXbcTFxSEiIgIBAQEIDAxEcnIyamtrERkZCQCYNm0aOnfurBqDmzNnDoYNG4bVq1dj9OjRyMzMxNmzZ7F582YAQE1NDZYuXYoJEyZAJBLh6tWrWLBgAXr27ImQkBAAgLe3N0JDQzFz5kykpqZCLpcjJiYGU6ZMgZubG7sbYAF5iYJA4AtG6KEBwOTJk3H79m0sWbIEMpkMAwYMQFZWlmrg/8aNG7Q3gAYPHoyMjAx88MEHeO+999CrVy/s379ftQZNIBDg119/xY4dO1BZWQk3NzeMHDkSy5cvp43jpaenIyYmBkFBQTA3N8eECROwfv16duZZwsuA1ljTiFPJZ9BzlCdc/V15ocVHT1xqEU+m0aJhxBTcMTExWh8xc3Nz1eomTpyIiRMnamxvY2ODI0eO6Lymk5OTURfRaoJVQHN3d8f169fV6t955x2kpKQYbIaP2UX56IlLLeLJNFoaYbpolmySohVWAe3MmTOqWUoAKCoqwksvvaQ1kjOFj9lF+eiJSy3iyTRabUIy1hoMq4DWqRN9fc7KlSvRo0cPDBs2TG8DfMwuykdPXGoRT6bR0omRxtCeJvT+ahobG7Fz507ExcW1mXWAZKzlnxbxZBotnZCAZjB6d17379+PyspKvPHGG222Ixlr+adFPJlGSyckY63B6B3Qtm7dilGjRulcU0Iy1vJPi3gyjZZOSMZag9EroF2/fh1Hjx7Fm2++qbMtyVjLTy3iyTRabUIy1hqMXgEtLS0Nzs7Oqv05uYKP2UX56IlLLeLJNFoaIT00g2H91SiVSqSlpSEiIgIWFsb5ZvmYXZSPnrjUIp5Mo0XDiAtrnxZYR6SjR4/ixo0bmD6dZSYBAoHQNlZgtrBWbmwjjy+sA9rIkSONN8tDIDzNkB6awZCncQKBL5B1aAZDvhoCgS+QgGYwJAU3h1p89MSlFvHEHL4keHzaMKMe0YDYwym4L1++jKqqKp3pgwmEx5WWzMxM/s5b2lZeA5j8JKqrAUcPkN+QBkgKbg61+OiJSy3iiTn69NAUFs2FSTuCZkgKbiNo8dETl1rEk270ScFNAprhkK+GQOAJTQIzNAl0v33QJKAAkKVTmuBlqrjGmkb8+OHPKJOW8UaLj5641CKeTKP1MAoLC8aFLSkpKXB3d4e1tTXEYjFOnz7dZvs9e/agd+/esLa2Rv/+/fH999+rjsnlcixcuBD9+/dHu3bt4ObmhmnTpuHWLXqv1t3dHWZmZrSycuVK1t7ZwPqbuXnzJhYuXIjDhw+jrq4OPXv2RFpaGm3Ld33hY7pkPnriUot4Mo2WRn2BEI0MemhyAQU2rwvs2rULcXFxSE1NhVgsRnJyMkJCQlBSUqK2uzkA5OfnIywsDElJSXjllVeQkZGBcePG4dy5c+jXrx/q6upw7tw5LF68GL6+vrh37x7mzJmD//znPzh79ixNa9myZZg5c6bqs52dHWPf+sAqoN27dw9DhgzBiy++iMOHD6NTp074/fff8cwzemzZ9RB8TJfMR09cahFPptFqiyYI0AQGj5wsHzfXrFmDmTNnqratS01NxaFDh7Bt2zbEx8ertV+3bh1CQ0Mxf/58AMDy5cuRnZ2NjRs3IjU1FQ4ODsjOzqads3HjRgQGBuLGjRvo1q2bqt7Ozs6oGwu3hlVAW7VqFbp27Yq0tDRVnYeHh0EG+JgumY+euNQinkyjpQsFBFAwGAVS/LNLSuvsz1ZWVrRt5IDmzNJSqRSLFi1S1ZmbmyM4OBgFBQUa9QsKChAXF0erCwkJwf79+7V6qqqqgpmZGRwdHWn1K1euxPLly9GtWze89tpriI2NNVpSC4BlQPvuu+8QEhKCiRMnIi8vD507d8Y777xD61K2hqTg5p8W8WQaLV0wD2jNvbjW2Z8TEhKQmJhIq7tz5w4UCoVqD84WXFxccOnSJY36MplMY3uZTKaxfX19PRYuXIiwsDDaurh3330Xfn5+cHJyQn5+PhYtWoSysjKsWbNG5z3qC6tJgT/++AObNm1Cr169cOTIEcyaNQvvvvsuduzYofUckoKbf1rEk2m0dNEc0JgVACgtLaVlg364F/aokMvlmDRpEiiKwqZNm2jH4uLiMHz4cPj4+ODtt9/G6tWrsWHDBloHh2tYBTSlUgk/Pz989NFHGDhwIKKiolRbvWuDpODmnxbxZBotXbANaK0zQbd+3ASAjh07QiAQoLy8nFZfXl6udWxLJBIxat8SzK5fv47s7Gydby2IxWI0NTXhzz//1PVV6A2rgObq6oo+ffrQ6ry9vXHjhvZUxCQFNz+1iCfTaLWFAoJ/JgbaLi0BjQlCoRD+/v7IyclR1SmVSuTk5EAikWg8RyKR0NoDQHZ2Nq19SzD7/fffcfToUXTo0EGnl8LCQpibm2ucWeUKVgFtyJAhKCkpodVdvnwZ3bt358QMH9Ml89ETl1rEk2m0NKGABePChri4OHzxxRfYsWMHiouLMWvWLNTW1qpmPadNm0Z7XJ0zZw6ysrKwevVqXLp0CYmJiTh79ixiYmIANAez//73vzh79izS09OhUCggk8kgk8nQ2NgIoHliITk5Gb/88gv++OMPpKenIzY2FlOnTjV4VURbsPpmYmNjMXjwYHz00UeYNGkSTp8+jc2bN2Pz5s2cmuJjumQ+euJSi3gyjdbDKGDOqPelYKk7efJk3L59G0uWLIFMJsOAAQOQlZWlGvi/ceMGzM3/7dsMHjwYGRkZ+OCDD/Dee++hV69e2L9/P/r16wegeS3qd999BwAYMGAA7VrHjx/H8OHDYWVlhczMTCQmJqKhoQEeHh6IjY1Vmz3lGlYBbdCgQdi3bx8WLVqEZcuWwcPDA8nJyQgPDzeWPwLhqaEBQlgyCGgNrEMaEBMTo+phtSY3N1etbuLEiZg4caLG9u7u7jonRvz8/HDy5EnWPg2F9YKQV155Ba+88ooxvBAITzVKWDDqoSkZLL59WiEvpxMIPEHBcMCfff/s6YFkrOVQi4+euNQinpijVz40EtAMhmSsJRCMgD4Zaw9UDUI7e919jNrqJoxxOEN+QxogGWs51OKjJy61iCfm6NNDa1lnprsdyYWmDZKx1ghafPTEpRbxpBu9MtYyXGNGHjm1QyYFCASeoGQ4hqYkPTStkIy1j7EnLrWIJ9NoPQzbdzkJ6rDqoSUmJmLp0qW0Oi8vL61pSNjCx+yifPTEpRbxZBotTTRACAEsGbTjZT+EF7B+5Ozbty+OHj36rwAHydr4mF2Uj5641CKeTKPV5nUYL9tQcnrdJwnW0cjCwoLTlLp8zC7KR09cahFPptHSBQlohsM6oP3+++9wc3ODtbU1JBIJkpKSaDnE2cLH7KJ89MSlFvFkGi1dKBgu2yABTTusHsbFYjG2b9+OrKwsbNq0CdeuXcPzzz+P+/fvaz2noaEB1dXVtPIwfMwuykdPXGoRT6bR0oWx0gc9TbAKaKNGjcLEiRPh4+ODkJAQfP/996isrMTu3bu1nqMrBTcfs4vy0ROXWsSTabR00ZI+SHchkwLaMOibcXR0xLPPPosrV65obaMrBTfAz+yifPTEpRbxZBqttiDLNgzHoIBWU1ODq1evwtXVVWsbJim4W+BjdlE+euJSi3gyjZYmSEAzHFYP4//3f/+HMWPGoHv37rh16xYSEhIgEAgQFhbGqSk+ZhfloycutYgn02g9DPNJARLQtMGqh/bXX38hLCwMXl5emDRpEjp06ICTJ0+iUyfD060QCE87jbBiXNiSkpICd3d3WFtbQywW4/Tp022237NnD3r37g1ra2v0798f33//Pe04RVFYsmQJXF1dYWNjg+DgYPz+O31c8e7duwgPD4e9vT0cHR0xY8YM1NTUsPbOBlYBLTMzE7du3UJDQwP++usvZGZmokePHsbyRiA8VRhrUmDXrl2Ii4tDQkICzp07B19fX4SEhKCiokJj+/z8fISFhWHGjBk4f/48xo0bh3HjxqGoqEjV5uOPP8b69euRmpqKU6dOoV27dggJCUF9fb2qTXh4OC5cuIDs7GwcPHgQJ06cQFRUlH5fDkPIdAmBwBOYbGHHNMXQw6xZswYzZ85EZGQk+vTpg9TUVNja2mLbtm0a269btw6hoaGYP38+vL29sXz5cvj5+WHjxo0AmntnycnJ+OCDDzB27Fj4+Pjgyy+/xK1bt7B//34AQHFxMbKysrBlyxaIxWIMHToUGzZsUHWKjAUJaAQCTzDGOrTGxkZIpVIEBwer6szNzREcHIyCggKN5xQUFNDaA0BISIiq/bVr1yCTyWhtHBwcIBaLVW0KCgrg6OiIgIAAVZvg4GCYm5vj1KlTjP2zhaTg5lCLj5641CKemKNPgkfm6YOa27RepG5lZaW2e/qdO3egUChUW9a14OLiojWphEwm09heJpOpjrfUtdWm9YbCFhYWcHJyUrUxBo8soD2cghsAxmMC7GF4+uBJmGywBtdafPTEpRbxpJtqVCMS01mdw/xdzuY2rRepJyQkIDExkdU1nzRICm4OtfjoiUst4ok5+m2SwnSj4eaRotLSUtq6zta9MwDo2LEjBAIBysvLafXl5eVak0yIRKI227f8b3l5OW0Nanl5uWrjYZFIpDbp0NTUhLt373Ka3KI1JAW3EbT46IlLLeJJN/qk4G6CAAJGewo0t9G1UB0AhEIh/P39kZOTg3HjxgEAlEolcnJytG48LJFIkJOTg7lz56rqsrOzIZFIAAAeHh4QiUTIyclRBbDq6mqcOnUKs2bNUmlUVlZCKpXC398fAHDs2DEolUqIxWKd96gv5C1XAoEnMN9TgN3PNi4uDhEREQgICEBgYCCSk5NRW1uLyMhIAMC0adPQuXNnJCUlAQDmzJmDYcOGYfXq1Rg9ejQyMzNx9uxZbN68GQBgZmaGuXPn4sMPP0SvXr3g4eGBxYsXw83NTRU0vb29ERoaipkzZyI1NRVyuRwxMTGYMmUK3NzcWPlnAy9nOfmYLpmPnrjUIp5Mo/UwSkZr0ASqSQGmTJ48GZ9++imWLFmCAQMGoLCwEFlZWapB/Rs3bqCs7N97GTx4MDIyMrB582b4+vrim2++wf79+9GvXz9VmwULFmD27NmIiorCoEGDUFNTg6ysLFhbW6vapKeno3fv3ggKCsLLL7+MoUOHqoKisTCoh7Zy5UosWrQIc+bMQXJyssFm+JgumY+euNQinkyjpYkGCEFBd+LIRj3yocXExGh9xMzNzVWrmzhxIiZOnKhVz8zMDMuWLcOyZcu0tnFyckJGRgZrr4agd0A7c+YMPv/8c/j4+Bhsgo/pkvnoiUst4sk0Wm1eBwKGj5zkXU5t6BXQampqEB4eji+++AIffvihQQb4mC6Zj5641CKeTKOlC7bLNgjq6BXQoqOjMXr0aAQHB+sMaA0NDWhoaFB9br0YkI/pkvnoiUst4sk0WrogAc1wWE8KZGZm4ty5c6oZEV3oyljLx3TJfPTEpRbxZBotXRhrUuBpglVAKy0txZw5c5Cenk6bzWgLXRlr+ZgumY+euNQinkyjpQtjvZz+NMEqoEmlUlRUVMDPzw8WFhawsLBAXl4e1q9fDwsLC9VrTQ/DJGMtH9Ml89ETl1rEk2m02qJlUkB3IQFNG6wCWlBQEH777TcUFhaqSkBAAMLDw1FYWAiBwLAvmo/pkvnoiUst4sk0WpogKbgNh9WkgJ2dHW1xHQC0a9cOHTp0UKs3BD6mS+ajJy61iCfTaD2MAgKYk0kBgyCvPhEIPKERVlAySK/dBPWhHUIzBgc0TauMCQQCexQQwIz00AyC9NAIBJ6ggDnDgMbLV7B5AQloBAJPaF6OwTx9EEEdkoKbQy0+euJSi3hijn4JHi1gZoT0QU8TZpSxlj234uEU3JcvX0ZVVZXO5HQEwuNKS2ZmJn/nLW39q76HwF53IFRU10Lq8DL5DWmApODmUIuPnrjUIp6Yo18PjdkjJ5kU0A5JwW0ELT564lKLeNKNPim4SUAzHPIwTiDwhCaYgyKznAbB6pvZtGkTfHx8VO9kSiQSHD58mHNTfEyXzEdPXGoRT6bRounCinEhaIZVQOvSpQtWrlwJqVSKs2fPYsSIERg7diwuXLjAiRn5AzkKPj2FjR6fIW/xCTTcbzS5Fh89calFPJlGSxN8SB909+5dhIeHw97eHo6OjpgxYwZqamraPKe+vh7R0dHo0KED2rdvjwkTJtC2wfvll18QFhaGrl27wsbGBt7e3li3bh1NIzc3F2ZmZmqF7abErB45x4wZQ/u8YsUKbNq0CSdPnkTfvn1ZXfhh+JgumY+euNQinkyj1RZNDN/lNGZACw8PR1lZGbKzsyGXyxEZGYmoqKg29waIjY3FoUOHsGfPHjg4OCAmJgbjx4/Hzz//DKA5S4+zszN27tyJrl27Ij8/H1FRURAIBGr7HJSUlNBmblvvvq4LvcfQFAoF9uzZg9raWtV+ffrAx3TJfPTEpRbxZBotXSggAMXgJ2msgFZcXIysrCycOXMGAQEBAIANGzbg5Zdfxqeffqpx+7mqqips3boVGRkZGDFiBAAgLS0N3t7eOHnyJJ577jlMn07fQd7T0xMFBQX49ttv1QKas7MzHB0d9b4H1gHtt99+g0QiQX19Pdq3b499+/ahT58+WtuTFNz80yKeTKOli+aAZroeWkFBARwdHVXBDACCg4Nhbm6OU6dO4dVXX1U7RyqVQi6XIzg4WFXXu3dvdOvWDQUFBXjuuec0XquqqgpOTk5q9QMGDEBDQwP69euHxMREDBkyhNU9sJ4u8fLyQmFhoWqX5IiICFy8eFFre5KCm39axJNptHTBNh9adXU1rTzccdAHmUym9ohnYWEBJycnrWNZMpkMQqFQrVfl4uKi9Zz8/Hzs2rULUVFRqjpXV1ekpqZi79692Lt3L7p27Yrhw4fj3LlzrO6BdUATCoXo2bMn/P39kZSUBF9fX7UBvochKbj5p0U8mUZLFwqlgHEBgK5du9I6C9r2+YiPj9c44P5wuXTpEuf3o4mioiKMHTsWCQkJGDlypKrey8sLb731Fvz9/TF48GBs27YNgwcPxtq1a1npG7ygRalUtvlfBpKCm59axJNptNpC0SRAE4OiaGoOaKWlpbTOwqJFizTqzps3D8XFxW0WT09PiEQiVFRU0M5tamrC3bt3IRKJNGqLRCI0NjaisrKSVl9eXq52zsWLFxEUFISoqCh88MEHOr+PwMBAXLlyRWe7h2E1hrZo0SKMGjUK3bp1w/3795GRkYHc3FwcOXKE1UW10ZLieEi8BHkJP3KSLtlQLT564lKLeDKNliYUTRYwa9L9k6T+aaOtg9CaTp06oVMn3S/cSyQSVFZWQiqVwt/fHwBw7NgxKJVKiMVijef4+/vD0tISOTk5mDBhAoDmmcobN27QJgsvXLiAESNGICIiAitWrNDpBQAKCwvh6urKqG0LrAJaRUUFpk2bhrKyMjg4OMDHxwdHjhzBSy+9xOqiuuBjumQ+euJSi3gyjdbDNNZbwkyoe/aUqrfk/NoA4O3tjdDQUMycOROpqamQy+WIiYnBlClTVDOcN2/eRFBQEL788ksEBgbCwcEBM2bMQFxcHJycnGBvb4/Zs2dDIpGoJgSKioowYsQIhISEIC4uTjW2JhAIVIE2OTkZHh4e6Nu3L+rr67FlyxYcO3YMP/zwA6t7YBXQtm7dykqcQCAwp6lJADO57hlMqsl469DS09MRExODoKAgmJubY8KECVi/fr3quFwuR0lJCerq6lR1a9euVbVtaGhASEgIPvvsM9Xxb775Brdv38bOnTuxc+dOVX337t3x559/AgAaGxsxb9483Lx5E7a2tvDx8cHRo0fx4osvsvJP3uUkEHgCpbAApWDwk2TSRk+cnJzaXETr7u6uNstrbW2tSg+micTERCQmJrZ53QULFmDBggWs/baGBDQCgS80CZoLk3YEjZCMtRxq8dETl1rEE3P0yYdGAprhkIy1BIIR0CdjLaRVQHsGv4maasCfmfbTBslYy6EWHz1xqUU8MUe/Hto/hUk7gkZIxlojaPHRE5daxJNu9MlYSwKa4ZBJAQKBL5CAZjC8zOXLx+yifPTEpRbxZBotGk0A5AwKCWhaYdVDS0pKwrfffotLly7BxsYGgwcPxqpVq+Dl5cWJGfkDOc6mnEPBqgLU3XmArkO7mFyLj5641CKeTKOlkQYw+0UallTjiYZVQMvLy0N0dDQGDRqEpqYmvPfeexg5ciQuXryIdu30GAT9Bz5mF+WjJy61iCfTaLUJeeQ0GFYBLSsri/Z5+/btcHZ2hlQqxQsvvKCXAT5mF+WjJy61iCfTaOmEBDSDMWhSoKqqCgA0Zp5kCh+zi/LRE5daxJNptHSiALNgpTCehccdvScFlEol5s6diyFDhqBfv35a2zU0NKhl1nwYPmYX5aMnLrWIJ9No6aSJRSFoRO+AFh0djaKiImRmZrbZTlcKbj5mF+WjJy61iCfTaOmEBDSD0SugxcTE4ODBgzh+/Di6dGl7pkdXCm6An9lF+eiJSy3iyTRabcJkyUZLIWiEVUCjKAoxMTHYt28fjh07Bg8PD53nMEnB3UJLRtC3L85E37A+nGQXNVSLj5641CKeTKOlEQWLQtAIq0mB6OhoZGRk4H//+x/s7OxUmScdHBxgY6N/5ozW8DG7KB89calFPJlGiwaZFDAYVgFt06ZNAIDhw4fT6tPS0vDGG29w5YlAeDqpB8Ck01dvbCOPL6wC2iPKNEQgPJ2QdWgGw8t3OQmEp5KWR05dxYiPnHfv3kV4eDjs7e3h6OiIGTNmoKamps1z6uvrER0djQ4dOqB9+/aYMGECysvLaW007QXaeoVEbm4u/Pz8YGVlhZ49e2L79u2s/ZOARiDwBR4s2wgPD8eFCxeQnZ2NgwcP4sSJE7QdzjURGxuLAwcOYM+ePcjLy8OtW7cwfvx4tXZpaWkoKytTlXHjxqmOXbt2DaNHj8aLL76IwsJCzJ07F2+++SbrLTJJCm4OtfjoiUst4ok5eiV4lANgkl3bSMs2iouLkZWVhTNnziAgIAAAsGHDBrz88sv49NNPVVvZPUxVVRW2bt2KjIwMjBgxAkBz4PL29sbJkydVW9kBgKOjo9YNi1NTU+Hh4YHVq1cDaN5S76effsLatWsREhLC/CaoR8TGjRspb29v6tlnn6UAUFVVVY/q0gTCI6eqqorx33lLWyyuorCC0l0WM9dmw9atWylHR0danVwupwQCAfXtt99qPCcnJ4cCQN27d49W361bN2rNmjWqzwAoNzc3qkOHDtSgQYOorVu3UkqlUnX8+eefp+bMmUPT2LZtG2Vvb8/qHkgKbg61+OiJSy3iiTmPIgV369cIraysYGVlxf66/yCTyeDs7Eyrs7CwgJOTk2qJlqZzhEIhHB0dafUuLi60c5YtW4YRI0bA1tYWP/zwA9555x3U1NTg3XffVem4uLioaVRXV+PBgweMl4WRFNxG0OKjJy61iCfd6JWCm+U6tNavESYkJGjc/zI+Ph6rVq1qU7K4uJiZRz1ZvHix6v8PHDgQtbW1+OSTT1QBjStICm4CgS80gdkY2j9Br7S0lPbmjbbe2bx583SuE/X09IRIJEJFRQX9Uk1NuHv3rtaxL5FIhMbGRlRWVtJ6aeXl5VrPAQCxWIzly5ejoaEBVlZWEIlEajOj5eXlsLe3Z7Von5eznHxMl8xHT1xqEU+m0aJRz6IAaq8UagtonTp1Qu/evdssQqEQEokElZWVkEqlqnOPHTsGpVIJsVisUdvf3x+WlpbIyclR1ZWUlODGjRuQSCRab7WwsBDPPPOMyrNEIqFpAEB2dnabGppg3UM7ceIEPvnkE0ilUpSVlWHfvn206VdD4GO6ZD564lKLeDKNlkZM/OqTt7c3QkNDMXPmTKSmpkIulyMmJgZTpkxRzXDevHkTQUFB+PLLLxEYGAgHBwfMmDEDcXFxcHJygr29PWbPng2JRKKa4Txw4ADKy8vx3HPPwdraGtnZ2fjoo4/wf//3f6prv/3229i4cSMWLFiA6dOn49ixY9i9ezcOHTrE6h5YB7Ta2lr4+vpi+vTpGtea6AMf0yXz0ROXWsSTabTapAnMnpmMuA4tPT0dMTExCAoKgrm5OSZMmID169erjsvlcpSUlKCurk5Vt3btWlXbhoYGhISE4LPPPlMdt7S0REpKCmJjY0FRFHr27Ik1a9Zg5syZqjYeHh44dOgQYmNjsW7dOnTp0gVbtmxht2QDegS0UaNGYdSoUWxP0wof0yXz0ROXWsSTabR0IgezdzmNmD7IyckJGRkZWo+7u7urvQJpbW2NlJQUpKSkaDwnNDQUoaGhOq89fPhwnD9/np3hVhh9UqChoQENDf9uU9N6qpmP6ZL56IlLLeLJNFo6YZoaiGTb0IrRJwV0ZazlY7pkPnriUot4Mo2WTnjw6tPjjtEDmq6MtXxMl8xHT1xqEU+m0dIJD15Of9wxekBjkrGWj+mS+eiJSy3iyTRabUJScBsMr9ah8TFdMh89calFPJlGSyMkBbfBsJ4UqKmpwZUrV1Sfr127hsLCQjg5OaFbt26cmOJjumQ+euJSi3gyjRaNejALVqSHphXWAe3s2bN48cUXVZ/j4uIAABEREXolZCMQCP/AdLCfTApohXVAGz58OEnFTSAYAwWYrUMjj5xaIS+nEwh8gfTQDIZkrOVQi4+euNQinpijdz40Lts9hZhRj+j5seXVCIVCgcuXL6OqqqrNTYcJhMeZlkSmTP7OW9piYBUgYPCbUFQD55lpP22QjLUcavHRE5daxBNz9OqhMR0bI2NoWiEZa42gxUdPXGoRT7rRK2NtEwAmz0skoGmFTAoQCHyBBDSD4dWbAi3wMbsoHz1xqUU8mUaLRhOYvfZEJgW0olcPLSUlBZ988glkMhl8fX2xYcMGBAYGGmyGj9lF+eiJSy3iyTRaGmkAsy6GktvLPkmwDmi7du1CXFwcUlNTIRaLkZycjJCQEJSUlKhtgcUUPmYX5aMnLrWIJ9NotQnTjLUkoGmFdUBrSZ0bGRkJoHnH40OHDmHbtm2Ij49nbYCP2UX56IlLLeLJNFo6kYMENANhFdAaGxshlUqxaNEiVZ25uTmCg4NRUFCglwE+ZhfloycutYgn02jpRAlmkwJGXDl69+5dzJ49GwcOHFDtE7Bu3Tq0b99e6zn19fWYN28eMjMzaXsKtGwcvH37dlUHqDXl5eVwdnZGbm4u7R3xFsrKytrcDq81rCYF7ty5A4VCoXGHY207Kzc0NKC6uppWHoaP2UX56IlLLeLJNFo64UHG2vDwcFy4cAHZ2dk4ePAgTpw4gaioqDbPiY2NxYEDB7Bnzx7k5eXh1q1btA2UJk+ejLKyMloJCQnBsGHD1IapSkpKaO3YDmOZPAU3H7OL8tETl1rEk2m0dGLigFZcXIysrCxs2bIFYrEYQ4cOxYYNG5CZmYlbtzSvy6uqqsLWrVuxZs0ajBgxAv7+/khLS0N+fj5OnjwJALCxsYFIJFIVgUCAY8eOYcaMGWp6zs7OtLbm5uxCFKvWHTt2hEAg0LjDsbZuoa4U3AA/s4vy0ROXWsSTabTaxMQZawsKCuDo6IiAgABVXXBwMMzNzXHq1CmN50ilUsjlcgQHB6vqevfujW7dumkdhvryyy9ha2uL//73v2rHBgwYAFdXV7z00kv4+eefWd8Dq4AmFArh7+9P2+FYqVQiJydH6w7HTFJwt8DH7KJ89MSlFvFkGi2NsMxY23oo5+Hd1fRBJpOpPeJZWFjAyclJ65CSTCaDUCiEo6Mjrb6tYaitW7fitddeg43Nv8kpXF1dkZqair1792Lv3r3o2rUrhg8fjnPnzrG6B9aznHFxcYiIiEBAQAACAwORnJyM2tparYN++sDH7KJ89MSlFvFkGi01WAzPtR6+SUhIQGJiolq7+Ph4rFq1qk2t4uJi5hc2gIKCAhQXF+Orr76i1Xt5ecHLy0v1efDgwbh69SrWrl2r1rYtWAe0yZMn4/bt21iyZAlkMhkGDBiArKwstYkCAoFgXEpLS2lPPFZWVhrbzZs3D2+88UabWp6enhCJRKioqKDVNzU14e7du1qHlEQiERobG1FZWUnrpWkbhtqyZQsGDBgAf3//Nv0AQGBgIH766Sed7R5GrzcFYmJiEBMTo8+pBAKBI3QN4bTQqVMndOqkO8ebRCJBZWUlpFKpKuAcO3YMSqUSYrFY4zn+/v6wtLRETk4OJkyYAKB5pvLGjRtqw1A1NTXYvXs3kpKSdHoBgMLCQri6ujJq2wJ5OZ1A4A1MR/yNMyvg7e2N0NBQzJw5E6mpqZDL5YiJicGUKVPg5uYGALh58yaCgoLw5ZdfIjAwEA4ODpgxYwbi4uLg5OQEe3t7zJ49GxKJBM899xxNf9euXWhqasLUqVPVrp2cnAwPDw/07dsX9fX12LJlC44dO4YffviB1T2QgEYg8AamazKMtxAtPT0dMTExCAoKUi2sXb9+veq4XC5HSUkJ6urqVHVr165VtX14YW1rtm7divHjx6tNIADNi/bnzZuHmzdvwtbWFj4+Pjh69KjGxbZt8cgDWsuiRNtqPRLgPYQt2qEa1bBFO/1yTxlBi4+euNQinlho/fP3zW4Rrml7aADg5OSEjIwMrcfd3d3V7sna2lqVkbot8vPztR5bsGABFixYwM6sBh55Cu7GxkZcvXr1UVySQDA5paWl6NKl7awcqhTcuAaASUrtagAeJAW3Bh5ZQGtBqVTi2WefhVQq1bqOp7q6Gl27dlWbxWnNoEGDcObMGa3HmepwqaVLh0stPt4fHz1xqcVUh6Io+Pv74/LlyzpXu/8b0H4HYNdm22buA+hFApoGHvkjp7m5OYRC4T//gG2jaxZHIBAw+gdlMhvElRZTHS61+Hh/fPTEpRaT+xMKhSxf3TH9I+fjjkkmBaKjo3mlw6UWHz1xqUU8GVPL9JMCjzuP/JGTCWy2AHsUOnzVIp4evRaXnlprAqcBaE/T8y81AALJI6cGeLlsw8rKCgkJCVpXPj9qHb5qEU+PXotLT+qQR05D4WUPjUB4mvi3h5YH5j20YaSHpgFe9tAIhKeTlm2fmLQjaIIENAKBN5BJAUMhAY1A4A1kDM1QSEAjEHgD6aEZCu92Tk9JSYG7uzusra0hFotx+vRpvXROnDiBMWPGwM3NDWZmZti/f79eOklJSRg0aBDs7Ozg7OyMcePGoaSkhLXOpk2b4OPjo1qQKZFIcPjwYb08tWblypUwMzPD3LlzWZ+bmJgIMzMzWundu7dePm7evImpU6eiQ4cOsLGxQf/+/XH27FnWOu7u7mqezMzMWK/rUigUWLx4MTw8PGBjY4MePXpg+fLlem9ycv/+fcydOxfdu3eHjY0NBg8erPMNBXaQrdMNhVcBrWUT44SEBJw7dw6+vr4ICQlRSzrHhNraWvj6+up8YVYXeXl5iI6OxsmTJ5GdnQ25XI6RI0eitraWlU6XLl2wcuVKSKVSnD17FiNGjMDYsWNx4cIFg/ydOXMGn3/+OXx8fPTW6Nu3L22nHbZJ9QDg3r17GDJkCCwtLXH48GFcvHgRq1evxjPPsH/J+8yZMzQ/2dnZAICJEyey0lm1ahU2bdqEjRs3ori4GKtWrcLHH3+MDRs2sPYEAG+++Says7Px1Vdf4bfffsPIkSMRHByMmzdv6qWnDg+2fXrcoXhEYGAgFR0drfqsUCgoNzc3KikpySBdANS+ffsMdNdMRUUFBYDKy8szWOuZZ56htmzZovf59+/fp3r16kVlZ2dTw4YNo+bMmcNaIyEhgfL19dXbQwsLFy6khg4darCOJubMmUP16NGDUiqVrM4bPXo0NX36dFrd+PHjqfDwcNYe6urqKIFAQB08eJBW7+fnR73//vus9R6mqqqKAkAB2yggk0HZRgGgqqqqDLrukwhvemgtmxg/vHuMoZsYG4OqqioAzWlW9EWhUCAzMxO1tbVaN5dhQnR0NEaPHk37zvTh999/h5ubGzw9PREeHo4bN9jvZvTdd98hICAAEydOhLOzMwYOHIgvvvjCIF9A89/Fzp07MX36dNabkgwePBg5OTm4fPkyAOCXX37BTz/9hFGjRrH20dTUBIVCAWtra1q9jY2NXj1aLVdhUQia4M2kQFubGF+6dMlErugolUrMnTsXQ4YMQb9+/Vif/9tvv0EikaC+vh7t27fHvn370KdPH728ZGZm4ty5cwaP4YjFYmzfvh1eXl4oKyvD0qVL8fzzz6OoqAh2dkwyPzTzxx9/YNOmTYiLi8N7772HM2fO4N1334VQKERERITe/vbv34/KykqdOfE1ER8fj+rqavTu3RsCgQAKhQIrVqxAeHg4ay07OztIJBIsX74c3t7ecHFxwddff42CggL07NmTtZ5myDo0Q+FNQHsciI6ORlFRkd7/Rfby8kJhYSGqqqrwzTffICIiAnl5eayDWmlpKebMmYPs7Gy1HgNbHu6t+Pj4QCwWo3v37ti9e7fGjWC1oVQqERAQgI8++ggAMHDgQBQVFSE1NdWggLZ161aMGjVKlQKaDbt370Z6ejoyMjLQt29fFBYWYu7cuXBzc9PL01dffYXp06ejc+fOEAgE8PPzQ1hYGKRSKWstzZBZTkPhTUDTZxPjR0lMTAwOHjyIEydO6EzYpw2hUKj6r7m/vz/OnDmDdevW4fPPP2elI5VKUVFRAT8/P1WdQqHAiRMnsHHjRjQ0NEAgEOjl0dHREc8++yyuXLnC6jxXV1e1wOzt7Y29e/fq5QMArl+/jqNHj+Lbb7/V6/z58+cjPj4eU6ZMAQD0798f169fR1JSkl4BrUePHsjLy0NtbS2qq6vh6uqKyZMnw9PTUy9/6sjB7CdJ1qFpgzdjaPpsYvwooCgKMTEx2LdvH44dOwYPDw/OtJVKpV6bwwYFBeG3335DYWGhqgQEBCA8PByFhYV6BzOgeWeeq1evst5tZ8iQIWrLWS5fvozu3bvr7SUtLQ3Ozs4YPXq0XufX1dWp5SMTCARQKpV6ewKAdu3awdXVFffu3cORI0cwdixXe3Safgzt7t27CA8Ph729PRwdHTFjxgzU1NS0ec7mzZsxfPhw2Nvbw8zMDJWVlXrp/vrrr3j++edhbW2Nrl274uOPP2Z/A6aelXiYzMxMysrKitq+fTt18eJFKioqinJ0dKRkMhlrrfv371Pnz5+nzp8/TwGg1qxZQ50/f566fv06K51Zs2ZRDg4OVG5uLlVWVqYqdXV1rHTi4+OpvLw86tq1a9Svv/5KxcfHU2ZmZtQPP/zASkcb+s5yzps3j8rNzaWuXbtG/fzzz1RwcDDVsWNHqqKigpXO6dOnKQsLC2rFihXU77//TqWnp1O2trbUzp07WXuiqOYZ7m7dulELFy7U63yKoqiIiAiqc+fO1MGDB6lr165R3377LdWxY0dqwYIFeullZWVRhw8fpv744w/qhx9+oHx9fSmxWEw1Njbq7ZGiHp7lXEEBqxmUFUab5QwNDaV8fX2pkydPUj/++CPVs2dPKiwsrM1z1q5dSyUlJVFJSUkUAOrevXusdauqqigXFxcqPDycKioqor7++mvKxsaG+vzzz1n551VAoyiK2rBhA9WtWzdKKBRSgYGB1MmTJ/XSOX78+D9/JPQSERHBSkeTBgAqLS2Nlc706dOp7t27U0KhkOrUqRMVFBTEWTCjKP0D2uTJkylXV1dKKBRSnTt3piZPnkxduXJFLw8HDhyg+vXrR1lZWVG9e/emNm/erJcORVHUkSNHKABUSUmJ3hrV1dXUnDlzqG7dulHW1taUp6cn9f7771MNDQ166e3atYvy9PSkhEIhJRKJqOjoaKqyslJvfy38G9CWUsAqBmWpUQLaxYsXKQDUmTNnVHWHDx+mzMzMqJs3b+o8v+U31zqgMdH97LPPqGeeeYb2b7Nw4ULKy8uL1T2Q9EEEgon5N33QBwCYTPLUA/iQ8/RB27Ztw7x583Dv3j1VXVNTE6ytrbFnzx68+uqrbZ6fm5uLF198Effu3aNtVcdEd9q0aaiurqa90XP8+HGMGDECd+/eZbxAmzeTAgQCoRbMxseax12rq6tptVZWVgYlnpTJZHB2dqbVWVhYwMnJCTKZzKi6MplMbXy6ZQmXTCYjAY1AeFwQCoUQiUSQydYyPqd9+/bo2rUrrS4hIQGJiYlqbePj47Fq1ao29YqLixlfm8+QgEYgmBhra2tcu3YNjY2NjM+hKErtzQltvbN58+bpXJjs6ekJkUik9t50U1MT7t69a9DSKSa6IpFI45KtlmNMIQGNQOAB1tbWBi+S1kanTp3QqVMnne0kEgkqKyshlUrh7+8PADh27BiUSiXEYrHe12eiK5FI8P7770Mul8PS0hIAkJ2dDS8vL3YJDlhNIRAIhCea0NBQauDAgdSpU6eon376ierVqxdtecVff/1FeXl5UadOnVLVlZWVUefPn6e++OILCgB14sQJ6vz589Tff//NWLeyspJycXGhXn/9daqoqIjKzMykbG1tH/9lGwQCwXT8/fffVFhYGNW+fXvK3t6eioyMpO7fv686fu3aNQoAdfz4cVVdQkKCzqVNunQpiqJ++eUXaujQoZSVlRXVuXNnauXKlaz9k2UbBALhiYE3rz4RCASCoZCARiAQnhhIQCMQCE8MJKARCIQnBhLQCATCEwMJaAQC4YmBBDQCgfDEQAIagUB4YiABjUAgPDGQgEYgEJ4YSEAjEAhPDCSgEQiEJ4b/B/+HyId304QBAAAAAElFTkSuQmCC\n"
                },
                "metadata": {}
              }
            ]
          }
        },
        "0519f9a766414a81985ae65800407115": {
          "model_module": "@jupyter-widgets/base",
          "model_name": "LayoutModel",
          "model_module_version": "1.2.0",
          "state": {
            "_model_module": "@jupyter-widgets/base",
            "_model_module_version": "1.2.0",
            "_model_name": "LayoutModel",
            "_view_count": null,
            "_view_module": "@jupyter-widgets/base",
            "_view_module_version": "1.2.0",
            "_view_name": "LayoutView",
            "align_content": null,
            "align_items": null,
            "align_self": null,
            "border": null,
            "bottom": null,
            "display": null,
            "flex": null,
            "flex_flow": null,
            "grid_area": null,
            "grid_auto_columns": null,
            "grid_auto_flow": null,
            "grid_auto_rows": null,
            "grid_column": null,
            "grid_gap": null,
            "grid_row": null,
            "grid_template_areas": null,
            "grid_template_columns": null,
            "grid_template_rows": null,
            "height": null,
            "justify_content": null,
            "justify_items": null,
            "left": null,
            "margin": null,
            "max_height": null,
            "max_width": null,
            "min_height": null,
            "min_width": null,
            "object_fit": null,
            "object_position": null,
            "order": null,
            "overflow": null,
            "overflow_x": null,
            "overflow_y": null,
            "padding": null,
            "right": null,
            "top": null,
            "visibility": null,
            "width": null
          }
        },
        "7db877b79dde48908e643da5c6112148": {
          "model_module": "@jupyter-widgets/base",
          "model_name": "LayoutModel",
          "model_module_version": "1.2.0",
          "state": {
            "_model_module": "@jupyter-widgets/base",
            "_model_module_version": "1.2.0",
            "_model_name": "LayoutModel",
            "_view_count": null,
            "_view_module": "@jupyter-widgets/base",
            "_view_module_version": "1.2.0",
            "_view_name": "LayoutView",
            "align_content": null,
            "align_items": null,
            "align_self": null,
            "border": null,
            "bottom": null,
            "display": null,
            "flex": null,
            "flex_flow": null,
            "grid_area": null,
            "grid_auto_columns": null,
            "grid_auto_flow": null,
            "grid_auto_rows": null,
            "grid_column": null,
            "grid_gap": null,
            "grid_row": null,
            "grid_template_areas": null,
            "grid_template_columns": null,
            "grid_template_rows": null,
            "height": null,
            "justify_content": null,
            "justify_items": null,
            "left": null,
            "margin": null,
            "max_height": null,
            "max_width": null,
            "min_height": null,
            "min_width": null,
            "object_fit": null,
            "object_position": null,
            "order": null,
            "overflow": null,
            "overflow_x": null,
            "overflow_y": null,
            "padding": null,
            "right": null,
            "top": null,
            "visibility": null,
            "width": null
          }
        },
        "08d6c977e1484c809386a3cd6e28642e": {
          "model_module": "@jupyter-widgets/controls",
          "model_name": "SliderStyleModel",
          "model_module_version": "1.5.0",
          "state": {
            "_model_module": "@jupyter-widgets/controls",
            "_model_module_version": "1.5.0",
            "_model_name": "SliderStyleModel",
            "_view_count": null,
            "_view_module": "@jupyter-widgets/base",
            "_view_module_version": "1.2.0",
            "_view_name": "StyleView",
            "description_width": "",
            "handle_color": null
          }
        },
        "56cb12badbd44444b84690862d217106": {
          "model_module": "@jupyter-widgets/base",
          "model_name": "LayoutModel",
          "model_module_version": "1.2.0",
          "state": {
            "_model_module": "@jupyter-widgets/base",
            "_model_module_version": "1.2.0",
            "_model_name": "LayoutModel",
            "_view_count": null,
            "_view_module": "@jupyter-widgets/base",
            "_view_module_version": "1.2.0",
            "_view_name": "LayoutView",
            "align_content": null,
            "align_items": null,
            "align_self": null,
            "border": null,
            "bottom": null,
            "display": null,
            "flex": null,
            "flex_flow": null,
            "grid_area": null,
            "grid_auto_columns": null,
            "grid_auto_flow": null,
            "grid_auto_rows": null,
            "grid_column": null,
            "grid_gap": null,
            "grid_row": null,
            "grid_template_areas": null,
            "grid_template_columns": null,
            "grid_template_rows": null,
            "height": null,
            "justify_content": null,
            "justify_items": null,
            "left": null,
            "margin": null,
            "max_height": null,
            "max_width": null,
            "min_height": null,
            "min_width": null,
            "object_fit": null,
            "object_position": null,
            "order": null,
            "overflow": null,
            "overflow_x": null,
            "overflow_y": null,
            "padding": null,
            "right": null,
            "top": null,
            "visibility": null,
            "width": null
          }
        },
        "218c040753d741bdb9f3e17a99290012": {
          "model_module": "@jupyter-widgets/controls",
          "model_name": "VBoxModel",
          "model_module_version": "1.5.0",
          "state": {
            "_dom_classes": [
              "widget-interact"
            ],
            "_model_module": "@jupyter-widgets/controls",
            "_model_module_version": "1.5.0",
            "_model_name": "VBoxModel",
            "_view_count": null,
            "_view_module": "@jupyter-widgets/controls",
            "_view_module_version": "1.5.0",
            "_view_name": "VBoxView",
            "box_style": "",
            "children": [
              "IPY_MODEL_5dc44b2e8ae94fa39cf5a9a1c734be1f",
              "IPY_MODEL_26806567170e4058894df00aaf40f80e"
            ],
            "layout": "IPY_MODEL_7c2b9ea014e54bc2ba23fcad0ec9eaa4"
          }
        },
        "5dc44b2e8ae94fa39cf5a9a1c734be1f": {
          "model_module": "@jupyter-widgets/controls",
          "model_name": "IntSliderModel",
          "model_module_version": "1.5.0",
          "state": {
            "_dom_classes": [],
            "_model_module": "@jupyter-widgets/controls",
            "_model_module_version": "1.5.0",
            "_model_name": "IntSliderModel",
            "_view_count": null,
            "_view_module": "@jupyter-widgets/controls",
            "_view_module_version": "1.5.0",
            "_view_name": "IntSliderView",
            "continuous_update": true,
            "description": "numIter",
            "description_tooltip": null,
            "disabled": false,
            "layout": "IPY_MODEL_4dafd0d64564450889f61864c9ed07b6",
            "max": 20,
            "min": 0,
            "orientation": "horizontal",
            "readout": true,
            "readout_format": "d",
            "step": 1,
            "style": "IPY_MODEL_5e4a9b825c4a432db81b320220e302a2",
            "value": 14
          }
        },
        "26806567170e4058894df00aaf40f80e": {
          "model_module": "@jupyter-widgets/output",
          "model_name": "OutputModel",
          "model_module_version": "1.0.0",
          "state": {
            "_dom_classes": [],
            "_model_module": "@jupyter-widgets/output",
            "_model_module_version": "1.0.0",
            "_model_name": "OutputModel",
            "_view_count": null,
            "_view_module": "@jupyter-widgets/output",
            "_view_module_version": "1.0.0",
            "_view_name": "OutputView",
            "layout": "IPY_MODEL_46552b92a5f34e689b68b62a75d9a1f5",
            "msg_id": "",
            "outputs": [
              {
                "output_type": "stream",
                "name": "stdout",
                "text": [
                  "time= 0.23\n"
                ]
              },
              {
                "output_type": "display_data",
                "data": {
                  "text/plain": "<Figure size 300x300 with 2 Axes>",
                  "image/png": "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\n"
                },
                "metadata": {}
              }
            ]
          }
        },
        "7c2b9ea014e54bc2ba23fcad0ec9eaa4": {
          "model_module": "@jupyter-widgets/base",
          "model_name": "LayoutModel",
          "model_module_version": "1.2.0",
          "state": {
            "_model_module": "@jupyter-widgets/base",
            "_model_module_version": "1.2.0",
            "_model_name": "LayoutModel",
            "_view_count": null,
            "_view_module": "@jupyter-widgets/base",
            "_view_module_version": "1.2.0",
            "_view_name": "LayoutView",
            "align_content": null,
            "align_items": null,
            "align_self": null,
            "border": null,
            "bottom": null,
            "display": null,
            "flex": null,
            "flex_flow": null,
            "grid_area": null,
            "grid_auto_columns": null,
            "grid_auto_flow": null,
            "grid_auto_rows": null,
            "grid_column": null,
            "grid_gap": null,
            "grid_row": null,
            "grid_template_areas": null,
            "grid_template_columns": null,
            "grid_template_rows": null,
            "height": null,
            "justify_content": null,
            "justify_items": null,
            "left": null,
            "margin": null,
            "max_height": null,
            "max_width": null,
            "min_height": null,
            "min_width": null,
            "object_fit": null,
            "object_position": null,
            "order": null,
            "overflow": null,
            "overflow_x": null,
            "overflow_y": null,
            "padding": null,
            "right": null,
            "top": null,
            "visibility": null,
            "width": null
          }
        },
        "4dafd0d64564450889f61864c9ed07b6": {
          "model_module": "@jupyter-widgets/base",
          "model_name": "LayoutModel",
          "model_module_version": "1.2.0",
          "state": {
            "_model_module": "@jupyter-widgets/base",
            "_model_module_version": "1.2.0",
            "_model_name": "LayoutModel",
            "_view_count": null,
            "_view_module": "@jupyter-widgets/base",
            "_view_module_version": "1.2.0",
            "_view_name": "LayoutView",
            "align_content": null,
            "align_items": null,
            "align_self": null,
            "border": null,
            "bottom": null,
            "display": null,
            "flex": null,
            "flex_flow": null,
            "grid_area": null,
            "grid_auto_columns": null,
            "grid_auto_flow": null,
            "grid_auto_rows": null,
            "grid_column": null,
            "grid_gap": null,
            "grid_row": null,
            "grid_template_areas": null,
            "grid_template_columns": null,
            "grid_template_rows": null,
            "height": null,
            "justify_content": null,
            "justify_items": null,
            "left": null,
            "margin": null,
            "max_height": null,
            "max_width": null,
            "min_height": null,
            "min_width": null,
            "object_fit": null,
            "object_position": null,
            "order": null,
            "overflow": null,
            "overflow_x": null,
            "overflow_y": null,
            "padding": null,
            "right": null,
            "top": null,
            "visibility": null,
            "width": null
          }
        },
        "5e4a9b825c4a432db81b320220e302a2": {
          "model_module": "@jupyter-widgets/controls",
          "model_name": "SliderStyleModel",
          "model_module_version": "1.5.0",
          "state": {
            "_model_module": "@jupyter-widgets/controls",
            "_model_module_version": "1.5.0",
            "_model_name": "SliderStyleModel",
            "_view_count": null,
            "_view_module": "@jupyter-widgets/base",
            "_view_module_version": "1.2.0",
            "_view_name": "StyleView",
            "description_width": "",
            "handle_color": null
          }
        },
        "46552b92a5f34e689b68b62a75d9a1f5": {
          "model_module": "@jupyter-widgets/base",
          "model_name": "LayoutModel",
          "model_module_version": "1.2.0",
          "state": {
            "_model_module": "@jupyter-widgets/base",
            "_model_module_version": "1.2.0",
            "_model_name": "LayoutModel",
            "_view_count": null,
            "_view_module": "@jupyter-widgets/base",
            "_view_module_version": "1.2.0",
            "_view_name": "LayoutView",
            "align_content": null,
            "align_items": null,
            "align_self": null,
            "border": null,
            "bottom": null,
            "display": null,
            "flex": null,
            "flex_flow": null,
            "grid_area": null,
            "grid_auto_columns": null,
            "grid_auto_flow": null,
            "grid_auto_rows": null,
            "grid_column": null,
            "grid_gap": null,
            "grid_row": null,
            "grid_template_areas": null,
            "grid_template_columns": null,
            "grid_template_rows": null,
            "height": null,
            "justify_content": null,
            "justify_items": null,
            "left": null,
            "margin": null,
            "max_height": null,
            "max_width": null,
            "min_height": null,
            "min_width": null,
            "object_fit": null,
            "object_position": null,
            "order": null,
            "overflow": null,
            "overflow_x": null,
            "overflow_y": null,
            "padding": null,
            "right": null,
            "top": null,
            "visibility": null,
            "width": null
          }
        },
        "aff403ddb90b4705ad0a17d74e788fc8": {
          "model_module": "@jupyter-widgets/controls",
          "model_name": "VBoxModel",
          "model_module_version": "1.5.0",
          "state": {
            "_dom_classes": [
              "widget-interact"
            ],
            "_model_module": "@jupyter-widgets/controls",
            "_model_module_version": "1.5.0",
            "_model_name": "VBoxModel",
            "_view_count": null,
            "_view_module": "@jupyter-widgets/controls",
            "_view_module_version": "1.5.0",
            "_view_name": "VBoxView",
            "box_style": "",
            "children": [
              "IPY_MODEL_c2b2c268321340febeee01a4194c7399",
              "IPY_MODEL_deedb6ce88a0444ca4a34bdc79f6afe4"
            ],
            "layout": "IPY_MODEL_aa027219fb1f4b6cbade8e9fd142a193"
          }
        },
        "c2b2c268321340febeee01a4194c7399": {
          "model_module": "@jupyter-widgets/controls",
          "model_name": "IntSliderModel",
          "model_module_version": "1.5.0",
          "state": {
            "_dom_classes": [],
            "_model_module": "@jupyter-widgets/controls",
            "_model_module_version": "1.5.0",
            "_model_name": "IntSliderModel",
            "_view_count": null,
            "_view_module": "@jupyter-widgets/controls",
            "_view_module_version": "1.5.0",
            "_view_name": "IntSliderView",
            "continuous_update": true,
            "description": "numIter",
            "description_tooltip": null,
            "disabled": false,
            "layout": "IPY_MODEL_8c9232b9c63e4de1b83aba2d0ed6d240",
            "max": 20,
            "min": 0,
            "orientation": "horizontal",
            "readout": true,
            "readout_format": "d",
            "step": 1,
            "style": "IPY_MODEL_b72f7be5014b4897850e002e5512a129",
            "value": 7
          }
        },
        "deedb6ce88a0444ca4a34bdc79f6afe4": {
          "model_module": "@jupyter-widgets/output",
          "model_name": "OutputModel",
          "model_module_version": "1.0.0",
          "state": {
            "_dom_classes": [],
            "_model_module": "@jupyter-widgets/output",
            "_model_module_version": "1.0.0",
            "_model_name": "OutputModel",
            "_view_count": null,
            "_view_module": "@jupyter-widgets/output",
            "_view_module_version": "1.0.0",
            "_view_name": "OutputView",
            "layout": "IPY_MODEL_b48053cd3a71490cbe6707f7de52f0d4",
            "msg_id": "",
            "outputs": [
              {
                "output_type": "stream",
                "name": "stdout",
                "text": [
                  "time= 0.15\n"
                ]
              },
              {
                "output_type": "display_data",
                "data": {
                  "text/plain": "<Figure size 300x300 with 2 Axes>",
                  "image/png": "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\n"
                },
                "metadata": {}
              }
            ]
          }
        },
        "aa027219fb1f4b6cbade8e9fd142a193": {
          "model_module": "@jupyter-widgets/base",
          "model_name": "LayoutModel",
          "model_module_version": "1.2.0",
          "state": {
            "_model_module": "@jupyter-widgets/base",
            "_model_module_version": "1.2.0",
            "_model_name": "LayoutModel",
            "_view_count": null,
            "_view_module": "@jupyter-widgets/base",
            "_view_module_version": "1.2.0",
            "_view_name": "LayoutView",
            "align_content": null,
            "align_items": null,
            "align_self": null,
            "border": null,
            "bottom": null,
            "display": null,
            "flex": null,
            "flex_flow": null,
            "grid_area": null,
            "grid_auto_columns": null,
            "grid_auto_flow": null,
            "grid_auto_rows": null,
            "grid_column": null,
            "grid_gap": null,
            "grid_row": null,
            "grid_template_areas": null,
            "grid_template_columns": null,
            "grid_template_rows": null,
            "height": null,
            "justify_content": null,
            "justify_items": null,
            "left": null,
            "margin": null,
            "max_height": null,
            "max_width": null,
            "min_height": null,
            "min_width": null,
            "object_fit": null,
            "object_position": null,
            "order": null,
            "overflow": null,
            "overflow_x": null,
            "overflow_y": null,
            "padding": null,
            "right": null,
            "top": null,
            "visibility": null,
            "width": null
          }
        },
        "8c9232b9c63e4de1b83aba2d0ed6d240": {
          "model_module": "@jupyter-widgets/base",
          "model_name": "LayoutModel",
          "model_module_version": "1.2.0",
          "state": {
            "_model_module": "@jupyter-widgets/base",
            "_model_module_version": "1.2.0",
            "_model_name": "LayoutModel",
            "_view_count": null,
            "_view_module": "@jupyter-widgets/base",
            "_view_module_version": "1.2.0",
            "_view_name": "LayoutView",
            "align_content": null,
            "align_items": null,
            "align_self": null,
            "border": null,
            "bottom": null,
            "display": null,
            "flex": null,
            "flex_flow": null,
            "grid_area": null,
            "grid_auto_columns": null,
            "grid_auto_flow": null,
            "grid_auto_rows": null,
            "grid_column": null,
            "grid_gap": null,
            "grid_row": null,
            "grid_template_areas": null,
            "grid_template_columns": null,
            "grid_template_rows": null,
            "height": null,
            "justify_content": null,
            "justify_items": null,
            "left": null,
            "margin": null,
            "max_height": null,
            "max_width": null,
            "min_height": null,
            "min_width": null,
            "object_fit": null,
            "object_position": null,
            "order": null,
            "overflow": null,
            "overflow_x": null,
            "overflow_y": null,
            "padding": null,
            "right": null,
            "top": null,
            "visibility": null,
            "width": null
          }
        },
        "b72f7be5014b4897850e002e5512a129": {
          "model_module": "@jupyter-widgets/controls",
          "model_name": "SliderStyleModel",
          "model_module_version": "1.5.0",
          "state": {
            "_model_module": "@jupyter-widgets/controls",
            "_model_module_version": "1.5.0",
            "_model_name": "SliderStyleModel",
            "_view_count": null,
            "_view_module": "@jupyter-widgets/base",
            "_view_module_version": "1.2.0",
            "_view_name": "StyleView",
            "description_width": "",
            "handle_color": null
          }
        },
        "b48053cd3a71490cbe6707f7de52f0d4": {
          "model_module": "@jupyter-widgets/base",
          "model_name": "LayoutModel",
          "model_module_version": "1.2.0",
          "state": {
            "_model_module": "@jupyter-widgets/base",
            "_model_module_version": "1.2.0",
            "_model_name": "LayoutModel",
            "_view_count": null,
            "_view_module": "@jupyter-widgets/base",
            "_view_module_version": "1.2.0",
            "_view_name": "LayoutView",
            "align_content": null,
            "align_items": null,
            "align_self": null,
            "border": null,
            "bottom": null,
            "display": null,
            "flex": null,
            "flex_flow": null,
            "grid_area": null,
            "grid_auto_columns": null,
            "grid_auto_flow": null,
            "grid_auto_rows": null,
            "grid_column": null,
            "grid_gap": null,
            "grid_row": null,
            "grid_template_areas": null,
            "grid_template_columns": null,
            "grid_template_rows": null,
            "height": null,
            "justify_content": null,
            "justify_items": null,
            "left": null,
            "margin": null,
            "max_height": null,
            "max_width": null,
            "min_height": null,
            "min_width": null,
            "object_fit": null,
            "object_position": null,
            "order": null,
            "overflow": null,
            "overflow_x": null,
            "overflow_y": null,
            "padding": null,
            "right": null,
            "top": null,
            "visibility": null,
            "width": null
          }
        }
      }
    }
  },
  "cells": [
    {
      "cell_type": "markdown",
      "metadata": {
        "id": "view-in-github",
        "colab_type": "text"
      },
      "source": [
        "<a href=\"https://colab.research.google.com/github/Dinillll/DL-Lab-07/blob/main/Markov_Decision_Process.ipynb\" target=\"_parent\"><img src=\"https://colab.research.google.com/assets/colab-badge.svg\" alt=\"Open In Colab\"/></a>"
      ]
    },
    {
      "cell_type": "code",
      "execution_count": 1,
      "metadata": {
        "colab": {
          "base_uri": "https://localhost:8080/"
        },
        "id": "JRPQmcykdTYT",
        "outputId": "a318d344-51cd-4abc-b552-4b93152e07aa"
      },
      "outputs": [
        {
          "output_type": "stream",
          "name": "stdout",
          "text": [
            "Mounted at /content/drive\n"
          ]
        }
      ],
      "source": [
        "from google.colab import drive\n",
        "drive.mount('/content/drive')"
      ]
    },
    {
      "cell_type": "code",
      "source": [
        "!unzip /content/drive/MyDrive/ColabNotebooks/Lab6.zip -d data"
      ],
      "metadata": {
        "colab": {
          "base_uri": "https://localhost:8080/"
        },
        "id": "ysYu59Kfd8ZD",
        "outputId": "deed8552-7eac-4fe1-b916-35caddb2ad7d"
      },
      "execution_count": 4,
      "outputs": [
        {
          "output_type": "stream",
          "name": "stdout",
          "text": [
            "Archive:  /content/drive/MyDrive/ColabNotebooks/Lab6.zip\n",
            "  inflating: data/Markov_Decision_Process.ipynb  \n",
            "  inflating: data/Gridworld.ipynb    \n"
          ]
        }
      ]
    },
    {
      "cell_type": "code",
      "source": [
        "import copy\n",
        "import timeit\n",
        "import numpy as np\n",
        "import matplotlib.pyplot as pl\n",
        "%matplotlib inline\n",
        "from ipywidgets import interactive\n",
        "import ipywidgets as widgets"
      ],
      "metadata": {
        "id": "5xE3ifpaehos"
      },
      "execution_count": 5,
      "outputs": []
    },
    {
      "cell_type": "code",
      "source": [
        "#Let's define MDP paras\n",
        "def createGrid10World():\n",
        "    def xy2s(y, x):\n",
        "        x = max(x, 0)\n",
        "        y = max(y, 0)\n",
        "        x = min(x, 9)\n",
        "        y = min(y, 9)\n",
        "        out = np.ravel_multi_index(np.array([x,y]), (10,10))\n",
        "        return out\n",
        "\n",
        "    def s2xy(s):\n",
        "        x, y = np.unravel_index(s, (10,10))\n",
        "        return y, x\n",
        "\n",
        "    def gridPlot(ax, im, title='', cmap='Blues'):\n",
        "        pl.imshow(im, interpolation='none', cmap=cmap, origin='lower')\n",
        "        pl.colorbar()\n",
        "        ax.set_xticks(np.arange(0, 10, 1));\n",
        "        ax.set_yticks(np.arange(0, 10, 1));\n",
        "        ax.set_xticklabels(np.arange(0, 10, 1));\n",
        "        ax.set_yticklabels(np.arange(0, 10, 1));\n",
        "        ax.set_xticks(np.arange(-.5, 10, 1), minor=True);\n",
        "        ax.set_yticks(np.arange(-.5, 10, 1), minor=True);\n",
        "        ax.grid(which='minor', color='w', linestyle='-', linewidth=1)\n",
        "        pl.title(title);\n",
        "        return\n",
        "\n",
        "    A = ['left', 'right', 'up', 'down']\n",
        "    S = np.arange(100)\n",
        "    T = np.zeros((len(S), len(A), len(S)))\n",
        "    R = np.zeros((len(S), len(A)))\n",
        "    for s in S:\n",
        "        x, y = s2xy(s)\n",
        "        if x == 2 and y == 7:\n",
        "            R[s, :] = 3\n",
        "        elif x == 7 and y == 8:\n",
        "            R[s, :] = 10\n",
        "        else:\n",
        "            if x == 7 and y == 3:\n",
        "                R[s, :] = -10\n",
        "            elif x == 4 and y == 3:\n",
        "                R[s, :] = -5\n",
        "            elif x == 0:\n",
        "                if y == 0 or y == 9:\n",
        "                    R[s, :] = -0.2\n",
        "                else:\n",
        "                    R[s, :] = -0.1\n",
        "                R[s, 0] = -0.7\n",
        "            elif x == 9:\n",
        "                if y == 0 or y == 9:\n",
        "                    R[s, :] = -0.2\n",
        "                else:\n",
        "                    R[s, :] = -0.1\n",
        "                R[s, 1] = -0.7\n",
        "            elif y == 0:\n",
        "                if x == 0 or x == 9:\n",
        "                    R[s, :] = -0.2\n",
        "                else:\n",
        "                    R[s, :] = -0.1\n",
        "                R[s, 3] = -0.7\n",
        "            elif y == 9:\n",
        "                if x == 0 or x == 9:\n",
        "                    R[s, :] = -0.2\n",
        "                else:\n",
        "                    R[s, :] = -0.1\n",
        "                R[s, 2] = -0.7\n",
        "\n",
        "            for a in A:\n",
        "                if a == 'left':\n",
        "                    T[s, 0, xy2s(x - 1, y)] += 0.7\n",
        "                    T[s, 0, xy2s(x + 1, y)] += 0.1\n",
        "                    T[s, 0, xy2s(x, y - 1)] += 0.1\n",
        "                    T[s, 0, xy2s(x, y + 1)] += 0.1\n",
        "                elif a == 'right':\n",
        "                    T[s, 1, xy2s(x + 1, y)] += 0.7\n",
        "                    T[s, 1, xy2s(x - 1, y)] += 0.1\n",
        "                    T[s, 1, xy2s(x, y - 1)] += 0.1\n",
        "                    T[s, 1, xy2s(x, y + 1)] += 0.1\n",
        "                elif a == 'up':\n",
        "                    T[s, 2, xy2s(x, y + 1)] += 0.7\n",
        "                    T[s, 2, xy2s(x, y - 1)] += 0.1\n",
        "                    T[s, 2, xy2s(x - 1, y)] += 0.1\n",
        "                    T[s, 2, xy2s(x + 1, y)] += 0.1\n",
        "                elif a == 'down':\n",
        "                    T[s, 3, xy2s(x, y - 1)] += 0.7\n",
        "                    T[s, 3, xy2s(x, y + 1)] += 0.1\n",
        "                    T[s, 3, xy2s(x - 1, y)] += 0.1\n",
        "                    T[s, 3, xy2s(x + 1, y)] += 0.1\n",
        "\n",
        "    for a, c_x, c_y in [(0,0,0), (0,0,9),(1,9,0),(1,9,9),(2,0,9),(2,9,9),(3,0,0),(3,9,0)]:\n",
        "        R[xy2s(c_x,c_y),a] = -0.8\n",
        "\n",
        "    discount = 0.9\n",
        "\n",
        "    nextStates = {}\n",
        "    for si in range(len(S)):\n",
        "        for ai in range(len(A)):\n",
        "            nextStates[(si,ai)] = np.where((T[si, ai, :] != 0) == True)[0]\n",
        "\n",
        "    return {'S':S, 'A':A, 'T':T, 'R':R, 'discount':discount, 'nextStates':nextStates, 'gridPlot':gridPlot, 'xy2s':xy2s, 's2xy':s2xy}"
      ],
      "metadata": {
        "id": "AwUVTpbwet6r"
      },
      "execution_count": 6,
      "outputs": []
    },
    {
      "cell_type": "code",
      "source": [
        "class MDP():\n",
        "    def __init__(self):\n",
        "        pass\n",
        "\n",
        "    def inbuilt_init(self, mdp_dict):\n",
        "        self.S = mdp_dict['S']\n",
        "        self.A = mdp_dict['A']\n",
        "        self.T = mdp_dict['T']\n",
        "        self.R = mdp_dict['R']\n",
        "        self.discount = mdp_dict['discount']\n",
        "        self.nextStates = mdp_dict['nextStates']\n",
        "        self.gridPlot = mdp_dict['gridPlot']\n",
        "        self.xy2s = mdp_dict['xy2s']\n",
        "        self.s2xy = mdp_dict['s2xy']"
      ],
      "metadata": {
        "id": "6rXDwiJ5ezXF"
      },
      "execution_count": 7,
      "outputs": []
    },
    {
      "cell_type": "code",
      "source": [
        "#Define the MDP\n",
        "mdp = MDP()\n",
        "mdp.inbuilt_init(mdp_dict=createGrid10World())\n",
        "\n",
        "#Plot states\n",
        "pl.figure(figsize=(3,3))\n",
        "mdp.gridPlot(ax=pl.gca(), im=mdp.S.reshape((10,10)), title='States', cmap='Greys')\n",
        "\n",
        "#Plot rewards\n",
        "pl.figure(figsize=(15,3))\n",
        "pl.suptitle('Rewards', fontsize=15)\n",
        "for a in range(4):\n",
        "    pl.subplot(1,4,a+1)\n",
        "    mdp.gridPlot(ax=pl.gca(), im=mdp.R[:,a].reshape((10,10)), title='a='+mdp.A[a], cmap='jet')\n",
        "pl.show()\n",
        "\n",
        "#Plot rewards\n",
        "pl.figure(figsize=(15,3))\n",
        "pl.suptitle('Rewards - clipped larger +ve values for visualizing the edges', fontsize=15)\n",
        "for a in range(4):\n",
        "    pl.subplot(1,4,a+1)\n",
        "    mdp.gridPlot(ax=pl.gca(), im=np.clip(mdp.R[:,a].reshape((10,10)), -1, -0.5), title='a='+mdp.A[a], cmap='jet')\n",
        "pl.show()\n",
        "\n",
        "#Plot rewards\n",
        "s0_x, s0_y = 3, 5\n",
        "s0 = mdp.xy2s(s0_x, s0_y)\n",
        "pl.figure(figsize=(15,3))\n",
        "pl.suptitle('Transition probabilities T(s1|s0=({},{}),a)'.format(s0_x, s0_y), fontsize=15)\n",
        "for a in range(4):\n",
        "    pl.subplot(1,4,a+1)\n",
        "    mdp.gridPlot(ax=pl.gca(), im=mdp.T[s0,a,:].reshape((10,10)), title='a='+mdp.A[a], cmap='Blues')\n",
        "pl.show()"
      ],
      "metadata": {
        "colab": {
          "base_uri": "https://localhost:8080/",
          "height": 1000
        },
        "id": "TCtBlC9Qe3KQ",
        "outputId": "d4e93558-f732-4ead-9103-c51a4b33314a"
      },
      "execution_count": 8,
      "outputs": [
        {
          "output_type": "display_data",
          "data": {
            "text/plain": [
              "<Figure size 300x300 with 2 Axes>"
            ],
            "image/png": "[encoded data removed]"
          },
          "metadata": {}
        },
        {
          "output_type": "display_data",
          "data": {
            "text/plain": [
              "<Figure size 1500x300 with 8 Axes>"
            ],
            "image/png": "[encoded data removed]"
          },
          "metadata": {}
        },
        {
          "output_type": "display_data",
          "data": {
            "text/plain": [
              "<Figure size 1500x300 with 8 Axes>"
            ],
            "image/png": "[encoded data removed]"
          },
          "metadata": {}
        },
        {
          "output_type": "display_data",
          "data": {
            "text/plain": [
              "<Figure size 1500x300 with 8 Axes>"
            ],
            "image/png": "[encoded data removed]"
          },
          "metadata": {}
        }
      ]
    },
    {
      "cell_type": "code",
      "source": [
        "#An interactive plot of transition probabilities\n",
        "def f(s0_x, s0_y, action):\n",
        "    a = mdp.A.index(action)\n",
        "    s0 = mdp.xy2s(int(s0_x), int(s0_y))\n",
        "    pl.figure(figsize=(6,6))\n",
        "    title = 'Transition probabilities T(s1|s0=({},{}),a={})'.format(int(s0_x),int(s0_y),action)\n",
        "    mdp.gridPlot(ax=pl.gca(), im=mdp.T[s0,a,:].reshape((10,10)), title=title, cmap='Blues')\n",
        "    pl.show()\n",
        "\n",
        "interactive_plot = interactive(f, s0_x='4', s0_y='5', action=widgets.ToggleButtons(options=['left', 'right', 'up', 'down']))\n",
        "interactive_plot"
      ],
      "metadata": {
        "colab": {
          "base_uri": "https://localhost:8080/",
          "height": 612,
          "referenced_widgets": [
            "7de41b631ea847ff9108b66ea620d6a0",
            "4926b6383d6a4fd7bc922f74f4290e3b",
            "64e956227c7a47de808b8318a5a97fa2",
            "ea27c8d4e8074961857321698e4faa60",
            "4aab06f0039d449d81cd083e3dc30e3b",
            "60fe9f1346da44ecb3780c739ea64092",
            "017357ec05044486b8c814254b2dc9f5",
            "e3f5ec1fe4ed46cdb0dc1f6fe99d1579",
            "10f500a53f3346779a882bc097ac7760",
            "15cd478dad254878b0d24767b5d8d9f7",
            "ba6e416e104d4babbee2cbf66d467724",
            "2cbfa1e77cb6409fb6b0cd6a0e8048e9",
            "fcc6a65edfb3444a82f62e8b50fb71da"
          ]
        },
        "id": "RNAks4UEe5Zs",
        "outputId": "7368d485-80cf-410e-faf4-40b09888ec6e"
      },
      "execution_count": 9,
      "outputs": [
        {
          "output_type": "display_data",
          "data": {
            "text/plain": [
              "interactive(children=(Text(value='4', description='s0_x'), Text(value='5', description='s0_y'), ToggleButtons(…"
            ],
            "application/vnd.jupyter.widget-view+json": {
              "version_major": 2,
              "version_minor": 0,
              "model_id": "7de41b631ea847ff9108b66ea620d6a0"
            }
          },
          "metadata": {}
        }
      ]
    },
    {
      "cell_type": "code",
      "source": [
        "def iterativePolicyEvaluation(mdp, policy, numIterations=10):\n",
        "    U = np.zeros(len(mdp.S))\n",
        "    U_old = copy.copy(U)\n",
        "    for t in range(numIterations):\n",
        "        #type your code here\n",
        "     return U\n",
        "\n",
        "numIterations = 5\n",
        "pl.figure(figsize=(15,3))\n",
        "pl.suptitle('Utilities', fontsize=15)\n",
        "for a in range(4):\n",
        "    pl.subplot(1,4,a+1)\n",
        "    U = iterativePolicyEvaluation(mdp=mdp, policy=a, numIterations=numIterations)\n",
        "    mdp.gridPlot(ax=pl.gca(), im=U.reshape(10,10), title='a='+mdp.A[a], cmap='jet')\n",
        "pl.show()\n",
        "#print(np.round(U.reshape(10,10),3))"
      ],
      "metadata": {
        "colab": {
          "base_uri": "https://localhost:8080/",
          "height": 307
        },
        "id": "XnCVeWYAe8k3",
        "outputId": "7f898681-0775-4914-e4ea-76b46340e19c"
      },
      "execution_count": 11,
      "outputs": [
        {
          "output_type": "display_data",
          "data": {
            "text/plain": [
              "<Figure size 1500x300 with 8 Axes>"
            ],
            "image/png": "[encoded data removed]"
          },
          "metadata": {}
        }
      ]
    },
    {
      "cell_type": "code",
      "source": [
        "def f(action, numIter=1):\n",
        "    U = iterativePolicyEvaluation(mdp, policy=mdp.A.index(action), numIterations=numIter)\n",
        "    pl.figure(figsize=(3,3))\n",
        "    mdp.gridPlot(ax=pl.gca(), im=U.reshape(10,10), title='Utility', cmap='jet')\n",
        "    pl.show()\n",
        "\n",
        "interactive_plot = interactive(f, action=widgets.ToggleButtons(options=['left', 'right', 'up', 'down']),\n",
        "                               numIter=widgets.IntSlider(min=0, max=20, step=1, value=0))\n",
        "interactive_plot"
      ],
      "metadata": {
        "colab": {
          "base_uri": "https://localhost:8080/",
          "height": 677,
          "referenced_widgets": [
            "e4f55ca4968444908e3865f1d6b25088",
            "21a720c4238a4732ad116ba679f14afd",
            "348162547af54a1eb6f05596c0465bc0",
            "6cec21ed5c4141dd9503de60a3e3375c",
            "21baf131a41c43c7b87f1603874ce11f",
            "0cc52c645c0f4c558f17f7fdde3f9a00",
            "fb09e0ef755647daaabf32e43b2b58e0",
            "37d20311e139465aaaa56edc2c1309f8",
            "beb6844b7deb48d792931077fd9fc7c1",
            "f3e9a372ed0147bebb1f0f3d58190f39"
          ]
        },
        "id": "0i5sNf3ufB5n",
        "outputId": "03244114-1ef7-488a-af65-463eb7646b21"
      },
      "execution_count": 12,
      "outputs": [
        {
          "output_type": "display_data",
          "data": {
            "text/plain": [
              "interactive(children=(ToggleButtons(description='action', options=('left', 'right', 'up', 'down'), value='left…"
            ],
            "application/vnd.jupyter.widget-view+json": {
              "version_major": 2,
              "version_minor": 0,
              "model_id": "e4f55ca4968444908e3865f1d6b25088"
            }
          },
          "metadata": {}
        },
        {
          "output_type": "display_data",
          "data": {
            "text/plain": [
              "<Figure size 300x300 with 1 Axes>"
            ],
            "image/png": "[encoded data removed]"
          },
          "metadata": {}
        }
      ]
    },
    {
      "cell_type": "code",
      "source": [
        "#Value iteration\n",
        "def valueIteration(mdp, numIterations=1):\n",
        "    U = np.zeros(len(mdp.S))\n",
        "    U_old = copy.copy(U)\n",
        "    for t in range(numIterations):\n",
        "        f#type your code here\n",
        "    return U\n",
        "\n",
        "def policyExtration(mdp, U):\n",
        "    policy = np.zeros(len(mdp.S))\n",
        "    #type your code here\n",
        "    return policy\n",
        "\n",
        "U = valueIteration(mdp, numIterations=2)\n",
        "policy = policyExtration(mdp, U=U)\n",
        "pl.figure(figsize=(3,3))\n",
        "mdp.gridPlot(ax=pl.gca(), im=U.reshape(10,10), title='Utility', cmap='jet')\n",
        "for s in range(100):\n",
        "    x, y = mdp.s2xy(s)\n",
        "    if policy[s] == 0:\n",
        "        m='\\u02C2'\n",
        "    elif policy[s] == 1:\n",
        "        m='\\u02C3'\n",
        "    elif policy[s] == 2:\n",
        "        m='\\u02C4'\n",
        "    elif policy[s] == 3:\n",
        "        m='\\u02C5'\n",
        "    pl.text(x-0.5,y-1,m,color='k',size=20)\n",
        "pl.show()"
      ],
      "metadata": {
        "colab": {
          "base_uri": "https://localhost:8080/",
          "height": 282
        },
        "id": "y7hEbrSkfNsD",
        "outputId": "753945c8-2114-46af-de8f-3572306d37b8"
      },
      "execution_count": 13,
      "outputs": [
        {
          "output_type": "display_data",
          "data": {
            "text/plain": [
              "<Figure size 300x300 with 2 Axes>"
            ],
            "image/png": "[encoded data removed]"
          },
          "metadata": {}
        }
      ]
    },
    {
      "cell_type": "code",
      "source": [
        "def f(numIter=1):\n",
        "    start_time = timeit.default_timer()\n",
        "    U = valueIteration(mdp, numIterations=numIter)\n",
        "    policy = policyExtration(mdp, U=U)\n",
        "    elapsed = timeit.default_timer() - start_time\n",
        "    print('time=', np.round(elapsed*1000,2))\n",
        "    pl.figure(figsize=(3,3))\n",
        "    mdp.gridPlot(ax=pl.gca(), im=U.reshape(10,10), title='Utility', cmap='jet')\n",
        "    for s in range(100):\n",
        "        x, y = mdp.s2xy(s)\n",
        "        if policy[s] == 0:\n",
        "            m='\\u02C2'\n",
        "        elif policy[s] == 1:\n",
        "            m='\\u02C3'\n",
        "        elif policy[s] == 2:\n",
        "            m='\\u02C4'\n",
        "        elif policy[s] == 3:\n",
        "            m='\\u02C5'\n",
        "        pl.text(x-0.5,y-1,m,color='k',size=20)\n",
        "    pl.show()\n",
        "\n",
        "interactive_plot = interactive(f, numIter=widgets.IntSlider(min=0, max=20, step=1, value=0))\n",
        "interactive_plot"
      ],
      "metadata": {
        "colab": {
          "base_uri": "https://localhost:8080/",
          "height": 331,
          "referenced_widgets": [
            "531d45188809497db2b80c2b26e4a885",
            "a49173cfbd254a39bdcf23cb6c79f53a",
            "24f715a4637845ceaaec20d096ee4e37",
            "0519f9a766414a81985ae65800407115",
            "7db877b79dde48908e643da5c6112148",
            "08d6c977e1484c809386a3cd6e28642e",
            "56cb12badbd44444b84690862d217106"
          ]
        },
        "id": "mRvEdxmifPCO",
        "outputId": "d71f1db6-a589-47d5-a91c-7552b2c6fe15"
      },
      "execution_count": 14,
      "outputs": [
        {
          "output_type": "display_data",
          "data": {
            "text/plain": [
              "interactive(children=(IntSlider(value=0, description='numIter', max=20), Output()), _dom_classes=('widget-inte…"
            ],
            "application/vnd.jupyter.widget-view+json": {
              "version_major": 2,
              "version_minor": 0,
              "model_id": "531d45188809497db2b80c2b26e4a885"
            }
          },
          "metadata": {}
        }
      ]
    },
    {
      "cell_type": "code",
      "source": [
        "def policyIteration(mdp, numIterations=1):\n",
        "    U_pi_k = np.zeros(len(mdp.S)) #initial values\n",
        "    pi_k = np.random.randint(low=0,high=4,size=len(mdp.S),dtype=int) #initial policy\n",
        "    pi_kp1 = copy.copy(pi_k)\n",
        "    for t in range(numIterations):\n",
        "        #Policy evaluation: compute U_pi_k\n",
        "          #type your code here\n",
        "        #Policy improvement\n",
        "          #type your code here\n",
        "     return U_pi_k, pi_kp1\n",
        "\n",
        "U_pi_k, pi_kp1 = policyIteration(mdp, numIterations=2)"
      ],
      "metadata": {
        "id": "ZnfXO_H1fc_T"
      },
      "execution_count": 16,
      "outputs": []
    },
    {
      "cell_type": "code",
      "source": [
        "def f(numIter=1):\n",
        "    start_time = timeit.default_timer()\n",
        "    # code you want to evaluate\n",
        "    value, policy = policyIteration(mdp, numIterations=numIter)\n",
        "    elapsed = timeit.default_timer() - start_time\n",
        "    print('time=', np.round(elapsed*1000,2))\n",
        "    pl.figure(figsize=(3,3))\n",
        "    mdp.gridPlot(ax=pl.gca(), im=value.reshape(10,10), title='Utility', cmap='jet')\n",
        "    for s in range(100):\n",
        "        x, y = mdp.s2xy(s)\n",
        "        if policy[s] == 0:\n",
        "            m='\\u02C2'\n",
        "        elif policy[s] == 1:\n",
        "            m='\\u02C3'\n",
        "        elif policy[s] == 2:\n",
        "            m='\\u02C4'\n",
        "        elif policy[s] == 3:\n",
        "            m='\\u02C5'\n",
        "        pl.text(x-0.5,y-1,m,color='k',size=20)\n",
        "    pl.show()\n",
        "\n",
        "interactive_plot = interactive(f, numIter=widgets.IntSlider(min=0, max=20, step=1, value=0))\n",
        "interactive_plot"
      ],
      "metadata": {
        "colab": {
          "base_uri": "https://localhost:8080/",
          "height": 331,
          "referenced_widgets": [
            "218c040753d741bdb9f3e17a99290012",
            "5dc44b2e8ae94fa39cf5a9a1c734be1f",
            "26806567170e4058894df00aaf40f80e",
            "7c2b9ea014e54bc2ba23fcad0ec9eaa4",
            "4dafd0d64564450889f61864c9ed07b6",
            "5e4a9b825c4a432db81b320220e302a2",
            "46552b92a5f34e689b68b62a75d9a1f5"
          ]
        },
        "id": "PhAIbh2TfgaL",
        "outputId": "4cddb565-e370-4cf2-8fcc-39390ac14ad5"
      },
      "execution_count": 17,
      "outputs": [
        {
          "output_type": "display_data",
          "data": {
            "text/plain": [
              "interactive(children=(IntSlider(value=0, description='numIter', max=20), Output()), _dom_classes=('widget-inte…"
            ],
            "application/vnd.jupyter.widget-view+json": {
              "version_major": 2,
              "version_minor": 0,
              "model_id": "218c040753d741bdb9f3e17a99290012"
            }
          },
          "metadata": {}
        }
      ]
    },
    {
      "cell_type": "code",
      "source": [
        "def policyIteration(mdp, numIterations=1):\n",
        "    U_pi_k = np.zeros(len(mdp.S)) #initial values\n",
        "    pi_k = np.random.randint(low=0,high=4,size=len(mdp.S),dtype=int) #initial policy\n",
        "    pi_kp1 = copy.copy(pi_k)\n",
        "    for t in range(numIterations):\n",
        "        #Policy evaluation: compute U_pi_k\n",
        "          #type your code here\n",
        "        #Policy improvement\n",
        "          #type your code here\n",
        "      return U_pi_k, pi_kp1\n",
        "\n",
        "U_pi_k, pi_kp1 = policyIteration(mdp, numIterations=2)"
      ],
      "metadata": {
        "id": "PAJmG_mUgPFg"
      },
      "execution_count": 19,
      "outputs": []
    },
    {
      "cell_type": "code",
      "source": [
        "def f(numIter=1):\n",
        "    start_time = timeit.default_timer()\n",
        "    # code you want to evaluate\n",
        "    value, policy = policyIteration(mdp, numIterations=numIter)\n",
        "    elapsed = timeit.default_timer() - start_time\n",
        "    print('time=', np.round(elapsed*1000,2))\n",
        "    pl.figure(figsize=(3,3))\n",
        "    mdp.gridPlot(ax=pl.gca(), im=value.reshape(10,10), title='Utility', cmap='jet')\n",
        "    for s in range(100):\n",
        "        x, y = mdp.s2xy(s)\n",
        "        if policy[s] == 0:\n",
        "            m='\\u02C2'\n",
        "        elif policy[s] == 1:\n",
        "            m='\\u02C3'\n",
        "        elif policy[s] == 2:\n",
        "            m='\\u02C4'\n",
        "        elif policy[s] == 3:\n",
        "            m='\\u02C5'\n",
        "        pl.text(x-0.5,y-1,m,color='k',size=20)\n",
        "    pl.show()\n",
        "\n",
        "interactive_plot = interactive(f, numIter=widgets.IntSlider(min=0, max=20, step=1, value=0))\n",
        "interactive_plot"
      ],
      "metadata": {
        "colab": {
          "base_uri": "https://localhost:8080/",
          "height": 331,
          "referenced_widgets": [
            "aff403ddb90b4705ad0a17d74e788fc8",
            "c2b2c268321340febeee01a4194c7399",
            "deedb6ce88a0444ca4a34bdc79f6afe4",
            "aa027219fb1f4b6cbade8e9fd142a193",
            "8c9232b9c63e4de1b83aba2d0ed6d240",
            "b72f7be5014b4897850e002e5512a129",
            "b48053cd3a71490cbe6707f7de52f0d4"
          ]
        },
        "id": "lZ1nMoVGge7i",
        "outputId": "8114148e-ac0d-45ed-ce41-64bd4c2d3a61"
      },
      "execution_count": 20,
      "outputs": [
        {
          "output_type": "display_data",
          "data": {
            "text/plain": [
              "interactive(children=(IntSlider(value=0, description='numIter', max=20), Output()), _dom_classes=('widget-inte…"
            ],
            "application/vnd.jupyter.widget-view+json": {
              "version_major": 2,
              "version_minor": 0,
              "model_id": "aff403ddb90b4705ad0a17d74e788fc8"
            }
          },
          "metadata": {}
        }
      ]
    },
    {
      "cell_type": "code",
      "source": [],
      "metadata": {
        "id": "3PSGi1uxgjVr"
      },
      "execution_count": null,
      "outputs": []
    }
  ]
}